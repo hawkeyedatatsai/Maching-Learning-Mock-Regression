{
  "nbformat": 4,
  "nbformat_minor": 0,
  "metadata": {
    "colab": {
      "provenance": [],
      "authorship_tag": "ABX9TyN8nzo6/SDcum8r2FVnSuaI",
      "include_colab_link": true
    },
    "kernelspec": {
      "name": "python3",
      "display_name": "Python 3"
    },
    "language_info": {
      "name": "python"
    }
  },
  "cells": [
    {
      "cell_type": "markdown",
      "metadata": {
        "id": "view-in-github",
        "colab_type": "text"
      },
      "source": [
        "<a href=\"https://colab.research.google.com/github/hawkeyedatatsai/Maching-Learning-Mock-Regression/blob/main/Maching_Learning_Mock_Regression.ipynb\" target=\"_parent\"><img src=\"https://colab.research.google.com/assets/colab-badge.svg\" alt=\"Open In Colab\"/></a>"
      ]
    },
    {
      "cell_type": "markdown",
      "source": [
        "\n",
        "Your task is to use [this dataset](https://docs.google.com/spreadsheets/d/1vxUH72hoDYbEdTOMYvr0XnmnDDm6AewWVzzFzn6c_jE/edit?usp=sharing) to predict the ***weight*** of a fish. The original dataset is from Kaggle."
      ],
      "metadata": {
        "id": "owgplA3LpyIG"
      }
    },
    {
      "cell_type": "code",
      "source": [
        "import matplotlib.pyplot as plt\n",
        "import seaborn as sns\n",
        "import pandas as pd\n",
        "import numpy as np\n",
        "from sklearn.model_selection import train_test_split, cross_val_score, GridSearchCV\n",
        "from sklearn.impute import SimpleImputer\n",
        "from sklearn.preprocessing import StandardScaler, OneHotEncoder\n",
        "from sklearn.pipeline import make_pipeline\n",
        "from sklearn.compose import make_column_transformer, make_column_selector\n",
        "from sklearn.dummy import DummyRegressor\n",
        "from sklearn.linear_model import LinearRegression\n",
        "from sklearn.tree import DecisionTreeRegressor\n",
        "from sklearn.ensemble import BaggingRegressor, RandomForestRegressor\n",
        "from sklearn.metrics import r2_score, mean_squared_error, mean_absolute_error\n",
        "from sklearn import set_config\n",
        "set_config(display='diagram')\n",
        "df = pd.read_csv(\"/content/1-Fish.csv\")\n",
        "print(df.shape)\n",
        "print(df.info())\n",
        "df.head()"
      ],
      "metadata": {
        "colab": {
          "base_uri": "https://localhost:8080/",
          "height": 492
        },
        "id": "bZQhzXuSCCrq",
        "outputId": "055e4a28-ce6f-472f-d86b-063d40f5ad5c"
      },
      "execution_count": null,
      "outputs": [
        {
          "output_type": "stream",
          "name": "stdout",
          "text": [
            "(159, 7)\n",
            "<class 'pandas.core.frame.DataFrame'>\n",
            "RangeIndex: 159 entries, 0 to 158\n",
            "Data columns (total 7 columns):\n",
            " #   Column   Non-Null Count  Dtype  \n",
            "---  ------   --------------  -----  \n",
            " 0   Species  155 non-null    object \n",
            " 1   Weight   159 non-null    float64\n",
            " 2   Length1  157 non-null    float64\n",
            " 3   Length2  157 non-null    float64\n",
            " 4   Length3  150 non-null    float64\n",
            " 5   Height   156 non-null    float64\n",
            " 6   Width    157 non-null    float64\n",
            "dtypes: float64(6), object(1)\n",
            "memory usage: 8.8+ KB\n",
            "None\n"
          ]
        },
        {
          "output_type": "execute_result",
          "data": {
            "text/plain": [
              "  Species  Weight  Length1  Length2  Length3   Height   Width\n",
              "0   Bream   242.0     23.2     25.4     30.0  11.5200  4.0200\n",
              "1   Bream   290.0     24.0     26.3     31.2  12.4800  4.3056\n",
              "2   Bream   340.0     23.9     26.5     31.1  12.3778  4.6961\n",
              "3   Bream   363.0     26.3     29.0     33.5  12.7300  4.4555\n",
              "4   Bream   430.0     26.5     29.0     34.0  12.4440  5.1340"
            ],
            "text/html": [
              "\n",
              "  <div id=\"df-6c736d40-98ee-4876-b45b-0f7cabae85d1\">\n",
              "    <div class=\"colab-df-container\">\n",
              "      <div>\n",
              "<style scoped>\n",
              "    .dataframe tbody tr th:only-of-type {\n",
              "        vertical-align: middle;\n",
              "    }\n",
              "\n",
              "    .dataframe tbody tr th {\n",
              "        vertical-align: top;\n",
              "    }\n",
              "\n",
              "    .dataframe thead th {\n",
              "        text-align: right;\n",
              "    }\n",
              "</style>\n",
              "<table border=\"1\" class=\"dataframe\">\n",
              "  <thead>\n",
              "    <tr style=\"text-align: right;\">\n",
              "      <th></th>\n",
              "      <th>Species</th>\n",
              "      <th>Weight</th>\n",
              "      <th>Length1</th>\n",
              "      <th>Length2</th>\n",
              "      <th>Length3</th>\n",
              "      <th>Height</th>\n",
              "      <th>Width</th>\n",
              "    </tr>\n",
              "  </thead>\n",
              "  <tbody>\n",
              "    <tr>\n",
              "      <th>0</th>\n",
              "      <td>Bream</td>\n",
              "      <td>242.0</td>\n",
              "      <td>23.2</td>\n",
              "      <td>25.4</td>\n",
              "      <td>30.0</td>\n",
              "      <td>11.5200</td>\n",
              "      <td>4.0200</td>\n",
              "    </tr>\n",
              "    <tr>\n",
              "      <th>1</th>\n",
              "      <td>Bream</td>\n",
              "      <td>290.0</td>\n",
              "      <td>24.0</td>\n",
              "      <td>26.3</td>\n",
              "      <td>31.2</td>\n",
              "      <td>12.4800</td>\n",
              "      <td>4.3056</td>\n",
              "    </tr>\n",
              "    <tr>\n",
              "      <th>2</th>\n",
              "      <td>Bream</td>\n",
              "      <td>340.0</td>\n",
              "      <td>23.9</td>\n",
              "      <td>26.5</td>\n",
              "      <td>31.1</td>\n",
              "      <td>12.3778</td>\n",
              "      <td>4.6961</td>\n",
              "    </tr>\n",
              "    <tr>\n",
              "      <th>3</th>\n",
              "      <td>Bream</td>\n",
              "      <td>363.0</td>\n",
              "      <td>26.3</td>\n",
              "      <td>29.0</td>\n",
              "      <td>33.5</td>\n",
              "      <td>12.7300</td>\n",
              "      <td>4.4555</td>\n",
              "    </tr>\n",
              "    <tr>\n",
              "      <th>4</th>\n",
              "      <td>Bream</td>\n",
              "      <td>430.0</td>\n",
              "      <td>26.5</td>\n",
              "      <td>29.0</td>\n",
              "      <td>34.0</td>\n",
              "      <td>12.4440</td>\n",
              "      <td>5.1340</td>\n",
              "    </tr>\n",
              "  </tbody>\n",
              "</table>\n",
              "</div>\n",
              "      <button class=\"colab-df-convert\" onclick=\"convertToInteractive('df-6c736d40-98ee-4876-b45b-0f7cabae85d1')\"\n",
              "              title=\"Convert this dataframe to an interactive table.\"\n",
              "              style=\"display:none;\">\n",
              "        \n",
              "  <svg xmlns=\"http://www.w3.org/2000/svg\" height=\"24px\"viewBox=\"0 0 24 24\"\n",
              "       width=\"24px\">\n",
              "    <path d=\"M0 0h24v24H0V0z\" fill=\"none\"/>\n",
              "    <path d=\"M18.56 5.44l.94 2.06.94-2.06 2.06-.94-2.06-.94-.94-2.06-.94 2.06-2.06.94zm-11 1L8.5 8.5l.94-2.06 2.06-.94-2.06-.94L8.5 2.5l-.94 2.06-2.06.94zm10 10l.94 2.06.94-2.06 2.06-.94-2.06-.94-.94-2.06-.94 2.06-2.06.94z\"/><path d=\"M17.41 7.96l-1.37-1.37c-.4-.4-.92-.59-1.43-.59-.52 0-1.04.2-1.43.59L10.3 9.45l-7.72 7.72c-.78.78-.78 2.05 0 2.83L4 21.41c.39.39.9.59 1.41.59.51 0 1.02-.2 1.41-.59l7.78-7.78 2.81-2.81c.8-.78.8-2.07 0-2.86zM5.41 20L4 18.59l7.72-7.72 1.47 1.35L5.41 20z\"/>\n",
              "  </svg>\n",
              "      </button>\n",
              "      \n",
              "  <style>\n",
              "    .colab-df-container {\n",
              "      display:flex;\n",
              "      flex-wrap:wrap;\n",
              "      gap: 12px;\n",
              "    }\n",
              "\n",
              "    .colab-df-convert {\n",
              "      background-color: #E8F0FE;\n",
              "      border: none;\n",
              "      border-radius: 50%;\n",
              "      cursor: pointer;\n",
              "      display: none;\n",
              "      fill: #1967D2;\n",
              "      height: 32px;\n",
              "      padding: 0 0 0 0;\n",
              "      width: 32px;\n",
              "    }\n",
              "\n",
              "    .colab-df-convert:hover {\n",
              "      background-color: #E2EBFA;\n",
              "      box-shadow: 0px 1px 2px rgba(60, 64, 67, 0.3), 0px 1px 3px 1px rgba(60, 64, 67, 0.15);\n",
              "      fill: #174EA6;\n",
              "    }\n",
              "\n",
              "    [theme=dark] .colab-df-convert {\n",
              "      background-color: #3B4455;\n",
              "      fill: #D2E3FC;\n",
              "    }\n",
              "\n",
              "    [theme=dark] .colab-df-convert:hover {\n",
              "      background-color: #434B5C;\n",
              "      box-shadow: 0px 1px 3px 1px rgba(0, 0, 0, 0.15);\n",
              "      filter: drop-shadow(0px 1px 2px rgba(0, 0, 0, 0.3));\n",
              "      fill: #FFFFFF;\n",
              "    }\n",
              "  </style>\n",
              "\n",
              "      <script>\n",
              "        const buttonEl =\n",
              "          document.querySelector('#df-6c736d40-98ee-4876-b45b-0f7cabae85d1 button.colab-df-convert');\n",
              "        buttonEl.style.display =\n",
              "          google.colab.kernel.accessAllowed ? 'block' : 'none';\n",
              "\n",
              "        async function convertToInteractive(key) {\n",
              "          const element = document.querySelector('#df-6c736d40-98ee-4876-b45b-0f7cabae85d1');\n",
              "          const dataTable =\n",
              "            await google.colab.kernel.invokeFunction('convertToInteractive',\n",
              "                                                     [key], {});\n",
              "          if (!dataTable) return;\n",
              "\n",
              "          const docLinkHtml = 'Like what you see? Visit the ' +\n",
              "            '<a target=\"_blank\" href=https://colab.research.google.com/notebooks/data_table.ipynb>data table notebook</a>'\n",
              "            + ' to learn more about interactive tables.';\n",
              "          element.innerHTML = '';\n",
              "          dataTable['output_type'] = 'display_data';\n",
              "          await google.colab.output.renderOutput(dataTable, element);\n",
              "          const docLink = document.createElement('div');\n",
              "          docLink.innerHTML = docLinkHtml;\n",
              "          element.appendChild(docLink);\n",
              "        }\n",
              "      </script>\n",
              "    </div>\n",
              "  </div>\n",
              "  "
            ]
          },
          "metadata": {},
          "execution_count": 1
        }
      ]
    },
    {
      "cell_type": "code",
      "source": [
        "df.describe()"
      ],
      "metadata": {
        "colab": {
          "base_uri": "https://localhost:8080/",
          "height": 300
        },
        "id": "U2how0Mnh4go",
        "outputId": "db3627aa-db70-4959-9c06-6bd065533d2f"
      },
      "execution_count": null,
      "outputs": [
        {
          "output_type": "execute_result",
          "data": {
            "text/plain": [
              "            Weight     Length1     Length2     Length3      Height       Width\n",
              "count   159.000000  157.000000  157.000000  150.000000  156.000000  157.000000\n",
              "mean    398.326415   26.080255   28.168153   31.196000    8.907132    4.416820\n",
              "std     357.978317    9.939357   10.407117   11.071718    4.250476    1.695044\n",
              "min       0.000000    7.500000    8.400000   10.800000    1.728400    1.047600\n",
              "25%     120.000000   19.000000   21.000000   23.275000    5.949000    3.375600\n",
              "50%     273.000000   25.000000   27.000000   29.700000    7.733000    4.248500\n",
              "75%     650.000000   32.500000   35.000000   39.575000   12.038100    5.589000\n",
              "max    1650.000000   59.000000   60.000000   64.000000   18.957000    8.142000"
            ],
            "text/html": [
              "\n",
              "  <div id=\"df-9c373dc7-0f51-4fb2-9aec-8dc59645f24b\">\n",
              "    <div class=\"colab-df-container\">\n",
              "      <div>\n",
              "<style scoped>\n",
              "    .dataframe tbody tr th:only-of-type {\n",
              "        vertical-align: middle;\n",
              "    }\n",
              "\n",
              "    .dataframe tbody tr th {\n",
              "        vertical-align: top;\n",
              "    }\n",
              "\n",
              "    .dataframe thead th {\n",
              "        text-align: right;\n",
              "    }\n",
              "</style>\n",
              "<table border=\"1\" class=\"dataframe\">\n",
              "  <thead>\n",
              "    <tr style=\"text-align: right;\">\n",
              "      <th></th>\n",
              "      <th>Weight</th>\n",
              "      <th>Length1</th>\n",
              "      <th>Length2</th>\n",
              "      <th>Length3</th>\n",
              "      <th>Height</th>\n",
              "      <th>Width</th>\n",
              "    </tr>\n",
              "  </thead>\n",
              "  <tbody>\n",
              "    <tr>\n",
              "      <th>count</th>\n",
              "      <td>159.000000</td>\n",
              "      <td>157.000000</td>\n",
              "      <td>157.000000</td>\n",
              "      <td>150.000000</td>\n",
              "      <td>156.000000</td>\n",
              "      <td>157.000000</td>\n",
              "    </tr>\n",
              "    <tr>\n",
              "      <th>mean</th>\n",
              "      <td>398.326415</td>\n",
              "      <td>26.080255</td>\n",
              "      <td>28.168153</td>\n",
              "      <td>31.196000</td>\n",
              "      <td>8.907132</td>\n",
              "      <td>4.416820</td>\n",
              "    </tr>\n",
              "    <tr>\n",
              "      <th>std</th>\n",
              "      <td>357.978317</td>\n",
              "      <td>9.939357</td>\n",
              "      <td>10.407117</td>\n",
              "      <td>11.071718</td>\n",
              "      <td>4.250476</td>\n",
              "      <td>1.695044</td>\n",
              "    </tr>\n",
              "    <tr>\n",
              "      <th>min</th>\n",
              "      <td>0.000000</td>\n",
              "      <td>7.500000</td>\n",
              "      <td>8.400000</td>\n",
              "      <td>10.800000</td>\n",
              "      <td>1.728400</td>\n",
              "      <td>1.047600</td>\n",
              "    </tr>\n",
              "    <tr>\n",
              "      <th>25%</th>\n",
              "      <td>120.000000</td>\n",
              "      <td>19.000000</td>\n",
              "      <td>21.000000</td>\n",
              "      <td>23.275000</td>\n",
              "      <td>5.949000</td>\n",
              "      <td>3.375600</td>\n",
              "    </tr>\n",
              "    <tr>\n",
              "      <th>50%</th>\n",
              "      <td>273.000000</td>\n",
              "      <td>25.000000</td>\n",
              "      <td>27.000000</td>\n",
              "      <td>29.700000</td>\n",
              "      <td>7.733000</td>\n",
              "      <td>4.248500</td>\n",
              "    </tr>\n",
              "    <tr>\n",
              "      <th>75%</th>\n",
              "      <td>650.000000</td>\n",
              "      <td>32.500000</td>\n",
              "      <td>35.000000</td>\n",
              "      <td>39.575000</td>\n",
              "      <td>12.038100</td>\n",
              "      <td>5.589000</td>\n",
              "    </tr>\n",
              "    <tr>\n",
              "      <th>max</th>\n",
              "      <td>1650.000000</td>\n",
              "      <td>59.000000</td>\n",
              "      <td>60.000000</td>\n",
              "      <td>64.000000</td>\n",
              "      <td>18.957000</td>\n",
              "      <td>8.142000</td>\n",
              "    </tr>\n",
              "  </tbody>\n",
              "</table>\n",
              "</div>\n",
              "      <button class=\"colab-df-convert\" onclick=\"convertToInteractive('df-9c373dc7-0f51-4fb2-9aec-8dc59645f24b')\"\n",
              "              title=\"Convert this dataframe to an interactive table.\"\n",
              "              style=\"display:none;\">\n",
              "        \n",
              "  <svg xmlns=\"http://www.w3.org/2000/svg\" height=\"24px\"viewBox=\"0 0 24 24\"\n",
              "       width=\"24px\">\n",
              "    <path d=\"M0 0h24v24H0V0z\" fill=\"none\"/>\n",
              "    <path d=\"M18.56 5.44l.94 2.06.94-2.06 2.06-.94-2.06-.94-.94-2.06-.94 2.06-2.06.94zm-11 1L8.5 8.5l.94-2.06 2.06-.94-2.06-.94L8.5 2.5l-.94 2.06-2.06.94zm10 10l.94 2.06.94-2.06 2.06-.94-2.06-.94-.94-2.06-.94 2.06-2.06.94z\"/><path d=\"M17.41 7.96l-1.37-1.37c-.4-.4-.92-.59-1.43-.59-.52 0-1.04.2-1.43.59L10.3 9.45l-7.72 7.72c-.78.78-.78 2.05 0 2.83L4 21.41c.39.39.9.59 1.41.59.51 0 1.02-.2 1.41-.59l7.78-7.78 2.81-2.81c.8-.78.8-2.07 0-2.86zM5.41 20L4 18.59l7.72-7.72 1.47 1.35L5.41 20z\"/>\n",
              "  </svg>\n",
              "      </button>\n",
              "      \n",
              "  <style>\n",
              "    .colab-df-container {\n",
              "      display:flex;\n",
              "      flex-wrap:wrap;\n",
              "      gap: 12px;\n",
              "    }\n",
              "\n",
              "    .colab-df-convert {\n",
              "      background-color: #E8F0FE;\n",
              "      border: none;\n",
              "      border-radius: 50%;\n",
              "      cursor: pointer;\n",
              "      display: none;\n",
              "      fill: #1967D2;\n",
              "      height: 32px;\n",
              "      padding: 0 0 0 0;\n",
              "      width: 32px;\n",
              "    }\n",
              "\n",
              "    .colab-df-convert:hover {\n",
              "      background-color: #E2EBFA;\n",
              "      box-shadow: 0px 1px 2px rgba(60, 64, 67, 0.3), 0px 1px 3px 1px rgba(60, 64, 67, 0.15);\n",
              "      fill: #174EA6;\n",
              "    }\n",
              "\n",
              "    [theme=dark] .colab-df-convert {\n",
              "      background-color: #3B4455;\n",
              "      fill: #D2E3FC;\n",
              "    }\n",
              "\n",
              "    [theme=dark] .colab-df-convert:hover {\n",
              "      background-color: #434B5C;\n",
              "      box-shadow: 0px 1px 3px 1px rgba(0, 0, 0, 0.15);\n",
              "      filter: drop-shadow(0px 1px 2px rgba(0, 0, 0, 0.3));\n",
              "      fill: #FFFFFF;\n",
              "    }\n",
              "  </style>\n",
              "\n",
              "      <script>\n",
              "        const buttonEl =\n",
              "          document.querySelector('#df-9c373dc7-0f51-4fb2-9aec-8dc59645f24b button.colab-df-convert');\n",
              "        buttonEl.style.display =\n",
              "          google.colab.kernel.accessAllowed ? 'block' : 'none';\n",
              "\n",
              "        async function convertToInteractive(key) {\n",
              "          const element = document.querySelector('#df-9c373dc7-0f51-4fb2-9aec-8dc59645f24b');\n",
              "          const dataTable =\n",
              "            await google.colab.kernel.invokeFunction('convertToInteractive',\n",
              "                                                     [key], {});\n",
              "          if (!dataTable) return;\n",
              "\n",
              "          const docLinkHtml = 'Like what you see? Visit the ' +\n",
              "            '<a target=\"_blank\" href=https://colab.research.google.com/notebooks/data_table.ipynb>data table notebook</a>'\n",
              "            + ' to learn more about interactive tables.';\n",
              "          element.innerHTML = '';\n",
              "          dataTable['output_type'] = 'display_data';\n",
              "          await google.colab.output.renderOutput(dataTable, element);\n",
              "          const docLink = document.createElement('div');\n",
              "          docLink.innerHTML = docLinkHtml;\n",
              "          element.appendChild(docLink);\n",
              "        }\n",
              "      </script>\n",
              "    </div>\n",
              "  </div>\n",
              "  "
            ]
          },
          "metadata": {},
          "execution_count": 2
        }
      ]
    },
    {
      "cell_type": "markdown",
      "source": [
        "#Prepare/clean the data for exploratory analysis purposes:\n"
      ],
      "metadata": {
        "id": "M1GiuU7qqKA2"
      }
    },
    {
      "cell_type": "markdown",
      "source": [
        "##Check for missing values. You should produce an output that shows the number of missing values for each feature.\n"
      ],
      "metadata": {
        "id": "ciw3-nMbsQgu"
      }
    },
    {
      "cell_type": "code",
      "source": [
        "# Check to see if there are any duplicate rows\n",
        "df.duplicated().sum()\n",
        "# result suggests no duplicate rows"
      ],
      "metadata": {
        "colab": {
          "base_uri": "https://localhost:8080/"
        },
        "id": "L_qnpqNkCCOk",
        "outputId": "e8396188-210f-45a6-aa36-57b124c46209"
      },
      "execution_count": null,
      "outputs": [
        {
          "output_type": "execute_result",
          "data": {
            "text/plain": [
              "0"
            ]
          },
          "metadata": {},
          "execution_count": 3
        }
      ]
    },
    {
      "cell_type": "code",
      "source": [
        "# Display the sum of missing values\n",
        "df.isna().sum()\n",
        "# result suggests missing values on both categorical and numerics column\n",
        "# Weight, target to be, has no missing values"
      ],
      "metadata": {
        "colab": {
          "base_uri": "https://localhost:8080/"
        },
        "id": "CTJ7hRnhDOMr",
        "outputId": "314ca9c1-0d2a-43fc-825f-9b7adc0b3208"
      },
      "execution_count": null,
      "outputs": [
        {
          "output_type": "execute_result",
          "data": {
            "text/plain": [
              "Species    4\n",
              "Weight     0\n",
              "Length1    2\n",
              "Length2    2\n",
              "Length3    9\n",
              "Height     3\n",
              "Width      2\n",
              "dtype: int64"
            ]
          },
          "metadata": {},
          "execution_count": 4
        }
      ]
    },
    {
      "cell_type": "markdown",
      "source": [
        "##For this task, handle missing values by using an appropriate imputation strategy (instead of dropping rows)."
      ],
      "metadata": {
        "id": "YEC5k98vsUH9"
      }
    },
    {
      "cell_type": "code",
      "source": [
        "df[\"Species\"].value_counts()"
      ],
      "metadata": {
        "colab": {
          "base_uri": "https://localhost:8080/"
        },
        "id": "JFzSfpQymlH2",
        "outputId": "97df766c-0133-43c5-e82c-915d29190fb1"
      },
      "execution_count": null,
      "outputs": [
        {
          "output_type": "execute_result",
          "data": {
            "text/plain": [
              "Perch        53\n",
              "Bream        33\n",
              "Roach        19\n",
              "Pike         17\n",
              "Smelt        14\n",
              "Parkki       11\n",
              "Whitefish     6\n",
              "Beam          2\n",
              "Name: Species, dtype: int64"
            ]
          },
          "metadata": {},
          "execution_count": 5
        }
      ]
    },
    {
      "cell_type": "code",
      "source": [
        "# on numeric\n",
        "mean_imputer = SimpleImputer(strategy = \"mean\")\n",
        "\n",
        "# on nominal\n",
        "missing_imputer = SimpleImputer(strategy=\"most_frequent\")"
      ],
      "metadata": {
        "id": "ZlH52hgaCYV9"
      },
      "execution_count": null,
      "outputs": []
    },
    {
      "cell_type": "markdown",
      "source": [
        "##Write a justification of your strategy for imputing missing values."
      ],
      "metadata": {
        "id": "FQk6JZtosYrt"
      }
    },
    {
      "cell_type": "markdown",
      "source": [
        "For the numercial columns, I use simpleimputer with mean strategy because most of the mean are close to 50% ; for the nominal columns, simpleimputer function with most frequent strategy are used since a huge portion of it are \"Perch\""
      ],
      "metadata": {
        "id": "T2c8FUfEDMEt"
      }
    },
    {
      "cell_type": "markdown",
      "source": [
        "##Make sure you avoid any data leakage when you impute values.\n"
      ],
      "metadata": {
        "id": "sq9YGhwNsaif"
      }
    },
    {
      "cell_type": "markdown",
      "source": [
        "##Ensure data types match the data types listed in the data dictionary (if given).\n"
      ],
      "metadata": {
        "id": "e1udtWTKscJe"
      }
    },
    {
      "cell_type": "markdown",
      "source": [
        "from df.info and reading through Dtype, species is objective and the rest are numercial. Therefore, the data types in general matches our understanding."
      ],
      "metadata": {
        "id": "JVDyL7aLmoGW"
      }
    },
    {
      "cell_type": "markdown",
      "source": [
        "##Check for and address any inconsistent values in categorical columns."
      ],
      "metadata": {
        "id": "Xs9sC-ZrsPxW"
      }
    },
    {
      "cell_type": "code",
      "source": [
        "# there is only one categorial col and that is Species\n",
        "print(df.describe(include='object')) "
      ],
      "metadata": {
        "colab": {
          "base_uri": "https://localhost:8080/"
        },
        "id": "EdiwgxaNDQx1",
        "outputId": "f0f3dc8c-83d6-4d15-d069-e65480d54c4b"
      },
      "execution_count": null,
      "outputs": [
        {
          "output_type": "stream",
          "name": "stdout",
          "text": [
            "       Species\n",
            "count      155\n",
            "unique       8\n",
            "top      Perch\n",
            "freq        53\n"
          ]
        }
      ]
    },
    {
      "cell_type": "code",
      "source": [
        "df[\"Species\"].value_counts()\n",
        "# looking up online, safe to say Beam should be Bream instead"
      ],
      "metadata": {
        "colab": {
          "base_uri": "https://localhost:8080/"
        },
        "id": "v2fWjcbLXO_b",
        "outputId": "26146ad3-b2b1-4d15-b5e3-c015f20a9b5e"
      },
      "execution_count": null,
      "outputs": [
        {
          "output_type": "execute_result",
          "data": {
            "text/plain": [
              "Perch        53\n",
              "Bream        33\n",
              "Roach        19\n",
              "Pike         17\n",
              "Smelt        14\n",
              "Parkki       11\n",
              "Whitefish     6\n",
              "Beam          2\n",
              "Name: Species, dtype: int64"
            ]
          },
          "metadata": {},
          "execution_count": 8
        }
      ]
    },
    {
      "cell_type": "code",
      "source": [
        "df['Species'] = df['Species'].replace('Beam', 'Bream')\n",
        "df['Species'].value_counts()"
      ],
      "metadata": {
        "colab": {
          "base_uri": "https://localhost:8080/"
        },
        "id": "HqbWXmlBnhHL",
        "outputId": "721edbfe-95fe-4b99-e7a8-c2634bf2f87a"
      },
      "execution_count": null,
      "outputs": [
        {
          "output_type": "execute_result",
          "data": {
            "text/plain": [
              "Perch        53\n",
              "Bream        35\n",
              "Roach        19\n",
              "Pike         17\n",
              "Smelt        14\n",
              "Parkki       11\n",
              "Whitefish     6\n",
              "Name: Species, dtype: int64"
            ]
          },
          "metadata": {},
          "execution_count": 9
        }
      ]
    },
    {
      "cell_type": "markdown",
      "source": [
        "##Check for and address any impossible values in numeric columns."
      ],
      "metadata": {
        "id": "G8EaWCe5sgMB"
      }
    },
    {
      "cell_type": "code",
      "source": [
        "df.describe()\n",
        "# weight min = 0 is suspicious, the rest look fine"
      ],
      "metadata": {
        "colab": {
          "base_uri": "https://localhost:8080/",
          "height": 300
        },
        "id": "iGFhT5ttHlu3",
        "outputId": "8f0a1686-136e-492d-944b-4c884841583a"
      },
      "execution_count": null,
      "outputs": [
        {
          "output_type": "execute_result",
          "data": {
            "text/plain": [
              "            Weight     Length1     Length2     Length3      Height       Width\n",
              "count   159.000000  157.000000  157.000000  150.000000  156.000000  157.000000\n",
              "mean    398.326415   26.080255   28.168153   31.196000    8.907132    4.416820\n",
              "std     357.978317    9.939357   10.407117   11.071718    4.250476    1.695044\n",
              "min       0.000000    7.500000    8.400000   10.800000    1.728400    1.047600\n",
              "25%     120.000000   19.000000   21.000000   23.275000    5.949000    3.375600\n",
              "50%     273.000000   25.000000   27.000000   29.700000    7.733000    4.248500\n",
              "75%     650.000000   32.500000   35.000000   39.575000   12.038100    5.589000\n",
              "max    1650.000000   59.000000   60.000000   64.000000   18.957000    8.142000"
            ],
            "text/html": [
              "\n",
              "  <div id=\"df-5b962f5a-0e88-4ab1-a0f8-07fb3cb311bf\">\n",
              "    <div class=\"colab-df-container\">\n",
              "      <div>\n",
              "<style scoped>\n",
              "    .dataframe tbody tr th:only-of-type {\n",
              "        vertical-align: middle;\n",
              "    }\n",
              "\n",
              "    .dataframe tbody tr th {\n",
              "        vertical-align: top;\n",
              "    }\n",
              "\n",
              "    .dataframe thead th {\n",
              "        text-align: right;\n",
              "    }\n",
              "</style>\n",
              "<table border=\"1\" class=\"dataframe\">\n",
              "  <thead>\n",
              "    <tr style=\"text-align: right;\">\n",
              "      <th></th>\n",
              "      <th>Weight</th>\n",
              "      <th>Length1</th>\n",
              "      <th>Length2</th>\n",
              "      <th>Length3</th>\n",
              "      <th>Height</th>\n",
              "      <th>Width</th>\n",
              "    </tr>\n",
              "  </thead>\n",
              "  <tbody>\n",
              "    <tr>\n",
              "      <th>count</th>\n",
              "      <td>159.000000</td>\n",
              "      <td>157.000000</td>\n",
              "      <td>157.000000</td>\n",
              "      <td>150.000000</td>\n",
              "      <td>156.000000</td>\n",
              "      <td>157.000000</td>\n",
              "    </tr>\n",
              "    <tr>\n",
              "      <th>mean</th>\n",
              "      <td>398.326415</td>\n",
              "      <td>26.080255</td>\n",
              "      <td>28.168153</td>\n",
              "      <td>31.196000</td>\n",
              "      <td>8.907132</td>\n",
              "      <td>4.416820</td>\n",
              "    </tr>\n",
              "    <tr>\n",
              "      <th>std</th>\n",
              "      <td>357.978317</td>\n",
              "      <td>9.939357</td>\n",
              "      <td>10.407117</td>\n",
              "      <td>11.071718</td>\n",
              "      <td>4.250476</td>\n",
              "      <td>1.695044</td>\n",
              "    </tr>\n",
              "    <tr>\n",
              "      <th>min</th>\n",
              "      <td>0.000000</td>\n",
              "      <td>7.500000</td>\n",
              "      <td>8.400000</td>\n",
              "      <td>10.800000</td>\n",
              "      <td>1.728400</td>\n",
              "      <td>1.047600</td>\n",
              "    </tr>\n",
              "    <tr>\n",
              "      <th>25%</th>\n",
              "      <td>120.000000</td>\n",
              "      <td>19.000000</td>\n",
              "      <td>21.000000</td>\n",
              "      <td>23.275000</td>\n",
              "      <td>5.949000</td>\n",
              "      <td>3.375600</td>\n",
              "    </tr>\n",
              "    <tr>\n",
              "      <th>50%</th>\n",
              "      <td>273.000000</td>\n",
              "      <td>25.000000</td>\n",
              "      <td>27.000000</td>\n",
              "      <td>29.700000</td>\n",
              "      <td>7.733000</td>\n",
              "      <td>4.248500</td>\n",
              "    </tr>\n",
              "    <tr>\n",
              "      <th>75%</th>\n",
              "      <td>650.000000</td>\n",
              "      <td>32.500000</td>\n",
              "      <td>35.000000</td>\n",
              "      <td>39.575000</td>\n",
              "      <td>12.038100</td>\n",
              "      <td>5.589000</td>\n",
              "    </tr>\n",
              "    <tr>\n",
              "      <th>max</th>\n",
              "      <td>1650.000000</td>\n",
              "      <td>59.000000</td>\n",
              "      <td>60.000000</td>\n",
              "      <td>64.000000</td>\n",
              "      <td>18.957000</td>\n",
              "      <td>8.142000</td>\n",
              "    </tr>\n",
              "  </tbody>\n",
              "</table>\n",
              "</div>\n",
              "      <button class=\"colab-df-convert\" onclick=\"convertToInteractive('df-5b962f5a-0e88-4ab1-a0f8-07fb3cb311bf')\"\n",
              "              title=\"Convert this dataframe to an interactive table.\"\n",
              "              style=\"display:none;\">\n",
              "        \n",
              "  <svg xmlns=\"http://www.w3.org/2000/svg\" height=\"24px\"viewBox=\"0 0 24 24\"\n",
              "       width=\"24px\">\n",
              "    <path d=\"M0 0h24v24H0V0z\" fill=\"none\"/>\n",
              "    <path d=\"M18.56 5.44l.94 2.06.94-2.06 2.06-.94-2.06-.94-.94-2.06-.94 2.06-2.06.94zm-11 1L8.5 8.5l.94-2.06 2.06-.94-2.06-.94L8.5 2.5l-.94 2.06-2.06.94zm10 10l.94 2.06.94-2.06 2.06-.94-2.06-.94-.94-2.06-.94 2.06-2.06.94z\"/><path d=\"M17.41 7.96l-1.37-1.37c-.4-.4-.92-.59-1.43-.59-.52 0-1.04.2-1.43.59L10.3 9.45l-7.72 7.72c-.78.78-.78 2.05 0 2.83L4 21.41c.39.39.9.59 1.41.59.51 0 1.02-.2 1.41-.59l7.78-7.78 2.81-2.81c.8-.78.8-2.07 0-2.86zM5.41 20L4 18.59l7.72-7.72 1.47 1.35L5.41 20z\"/>\n",
              "  </svg>\n",
              "      </button>\n",
              "      \n",
              "  <style>\n",
              "    .colab-df-container {\n",
              "      display:flex;\n",
              "      flex-wrap:wrap;\n",
              "      gap: 12px;\n",
              "    }\n",
              "\n",
              "    .colab-df-convert {\n",
              "      background-color: #E8F0FE;\n",
              "      border: none;\n",
              "      border-radius: 50%;\n",
              "      cursor: pointer;\n",
              "      display: none;\n",
              "      fill: #1967D2;\n",
              "      height: 32px;\n",
              "      padding: 0 0 0 0;\n",
              "      width: 32px;\n",
              "    }\n",
              "\n",
              "    .colab-df-convert:hover {\n",
              "      background-color: #E2EBFA;\n",
              "      box-shadow: 0px 1px 2px rgba(60, 64, 67, 0.3), 0px 1px 3px 1px rgba(60, 64, 67, 0.15);\n",
              "      fill: #174EA6;\n",
              "    }\n",
              "\n",
              "    [theme=dark] .colab-df-convert {\n",
              "      background-color: #3B4455;\n",
              "      fill: #D2E3FC;\n",
              "    }\n",
              "\n",
              "    [theme=dark] .colab-df-convert:hover {\n",
              "      background-color: #434B5C;\n",
              "      box-shadow: 0px 1px 3px 1px rgba(0, 0, 0, 0.15);\n",
              "      filter: drop-shadow(0px 1px 2px rgba(0, 0, 0, 0.3));\n",
              "      fill: #FFFFFF;\n",
              "    }\n",
              "  </style>\n",
              "\n",
              "      <script>\n",
              "        const buttonEl =\n",
              "          document.querySelector('#df-5b962f5a-0e88-4ab1-a0f8-07fb3cb311bf button.colab-df-convert');\n",
              "        buttonEl.style.display =\n",
              "          google.colab.kernel.accessAllowed ? 'block' : 'none';\n",
              "\n",
              "        async function convertToInteractive(key) {\n",
              "          const element = document.querySelector('#df-5b962f5a-0e88-4ab1-a0f8-07fb3cb311bf');\n",
              "          const dataTable =\n",
              "            await google.colab.kernel.invokeFunction('convertToInteractive',\n",
              "                                                     [key], {});\n",
              "          if (!dataTable) return;\n",
              "\n",
              "          const docLinkHtml = 'Like what you see? Visit the ' +\n",
              "            '<a target=\"_blank\" href=https://colab.research.google.com/notebooks/data_table.ipynb>data table notebook</a>'\n",
              "            + ' to learn more about interactive tables.';\n",
              "          element.innerHTML = '';\n",
              "          dataTable['output_type'] = 'display_data';\n",
              "          await google.colab.output.renderOutput(dataTable, element);\n",
              "          const docLink = document.createElement('div');\n",
              "          docLink.innerHTML = docLinkHtml;\n",
              "          element.appendChild(docLink);\n",
              "        }\n",
              "      </script>\n",
              "    </div>\n",
              "  </div>\n",
              "  "
            ]
          },
          "metadata": {},
          "execution_count": 10
        }
      ]
    },
    {
      "cell_type": "code",
      "source": [
        "df[df[\"Weight\"] == 0]\n",
        "# result below suggests one row with Weight = 0 and I plan to drop it"
      ],
      "metadata": {
        "colab": {
          "base_uri": "https://localhost:8080/",
          "height": 80
        },
        "id": "GR8VcLDvDKWr",
        "outputId": "1971204b-c47f-420a-9fb6-0abe4700d1e9"
      },
      "execution_count": null,
      "outputs": [
        {
          "output_type": "execute_result",
          "data": {
            "text/plain": [
              "   Species  Weight  Length1  Length2  Length3  Height   Width\n",
              "40   Roach     0.0     19.0     20.5     22.8  6.4752  3.3516"
            ],
            "text/html": [
              "\n",
              "  <div id=\"df-07ec44e6-3c4f-4176-be4e-7a20787dcfa5\">\n",
              "    <div class=\"colab-df-container\">\n",
              "      <div>\n",
              "<style scoped>\n",
              "    .dataframe tbody tr th:only-of-type {\n",
              "        vertical-align: middle;\n",
              "    }\n",
              "\n",
              "    .dataframe tbody tr th {\n",
              "        vertical-align: top;\n",
              "    }\n",
              "\n",
              "    .dataframe thead th {\n",
              "        text-align: right;\n",
              "    }\n",
              "</style>\n",
              "<table border=\"1\" class=\"dataframe\">\n",
              "  <thead>\n",
              "    <tr style=\"text-align: right;\">\n",
              "      <th></th>\n",
              "      <th>Species</th>\n",
              "      <th>Weight</th>\n",
              "      <th>Length1</th>\n",
              "      <th>Length2</th>\n",
              "      <th>Length3</th>\n",
              "      <th>Height</th>\n",
              "      <th>Width</th>\n",
              "    </tr>\n",
              "  </thead>\n",
              "  <tbody>\n",
              "    <tr>\n",
              "      <th>40</th>\n",
              "      <td>Roach</td>\n",
              "      <td>0.0</td>\n",
              "      <td>19.0</td>\n",
              "      <td>20.5</td>\n",
              "      <td>22.8</td>\n",
              "      <td>6.4752</td>\n",
              "      <td>3.3516</td>\n",
              "    </tr>\n",
              "  </tbody>\n",
              "</table>\n",
              "</div>\n",
              "      <button class=\"colab-df-convert\" onclick=\"convertToInteractive('df-07ec44e6-3c4f-4176-be4e-7a20787dcfa5')\"\n",
              "              title=\"Convert this dataframe to an interactive table.\"\n",
              "              style=\"display:none;\">\n",
              "        \n",
              "  <svg xmlns=\"http://www.w3.org/2000/svg\" height=\"24px\"viewBox=\"0 0 24 24\"\n",
              "       width=\"24px\">\n",
              "    <path d=\"M0 0h24v24H0V0z\" fill=\"none\"/>\n",
              "    <path d=\"M18.56 5.44l.94 2.06.94-2.06 2.06-.94-2.06-.94-.94-2.06-.94 2.06-2.06.94zm-11 1L8.5 8.5l.94-2.06 2.06-.94-2.06-.94L8.5 2.5l-.94 2.06-2.06.94zm10 10l.94 2.06.94-2.06 2.06-.94-2.06-.94-.94-2.06-.94 2.06-2.06.94z\"/><path d=\"M17.41 7.96l-1.37-1.37c-.4-.4-.92-.59-1.43-.59-.52 0-1.04.2-1.43.59L10.3 9.45l-7.72 7.72c-.78.78-.78 2.05 0 2.83L4 21.41c.39.39.9.59 1.41.59.51 0 1.02-.2 1.41-.59l7.78-7.78 2.81-2.81c.8-.78.8-2.07 0-2.86zM5.41 20L4 18.59l7.72-7.72 1.47 1.35L5.41 20z\"/>\n",
              "  </svg>\n",
              "      </button>\n",
              "      \n",
              "  <style>\n",
              "    .colab-df-container {\n",
              "      display:flex;\n",
              "      flex-wrap:wrap;\n",
              "      gap: 12px;\n",
              "    }\n",
              "\n",
              "    .colab-df-convert {\n",
              "      background-color: #E8F0FE;\n",
              "      border: none;\n",
              "      border-radius: 50%;\n",
              "      cursor: pointer;\n",
              "      display: none;\n",
              "      fill: #1967D2;\n",
              "      height: 32px;\n",
              "      padding: 0 0 0 0;\n",
              "      width: 32px;\n",
              "    }\n",
              "\n",
              "    .colab-df-convert:hover {\n",
              "      background-color: #E2EBFA;\n",
              "      box-shadow: 0px 1px 2px rgba(60, 64, 67, 0.3), 0px 1px 3px 1px rgba(60, 64, 67, 0.15);\n",
              "      fill: #174EA6;\n",
              "    }\n",
              "\n",
              "    [theme=dark] .colab-df-convert {\n",
              "      background-color: #3B4455;\n",
              "      fill: #D2E3FC;\n",
              "    }\n",
              "\n",
              "    [theme=dark] .colab-df-convert:hover {\n",
              "      background-color: #434B5C;\n",
              "      box-shadow: 0px 1px 3px 1px rgba(0, 0, 0, 0.15);\n",
              "      filter: drop-shadow(0px 1px 2px rgba(0, 0, 0, 0.3));\n",
              "      fill: #FFFFFF;\n",
              "    }\n",
              "  </style>\n",
              "\n",
              "      <script>\n",
              "        const buttonEl =\n",
              "          document.querySelector('#df-07ec44e6-3c4f-4176-be4e-7a20787dcfa5 button.colab-df-convert');\n",
              "        buttonEl.style.display =\n",
              "          google.colab.kernel.accessAllowed ? 'block' : 'none';\n",
              "\n",
              "        async function convertToInteractive(key) {\n",
              "          const element = document.querySelector('#df-07ec44e6-3c4f-4176-be4e-7a20787dcfa5');\n",
              "          const dataTable =\n",
              "            await google.colab.kernel.invokeFunction('convertToInteractive',\n",
              "                                                     [key], {});\n",
              "          if (!dataTable) return;\n",
              "\n",
              "          const docLinkHtml = 'Like what you see? Visit the ' +\n",
              "            '<a target=\"_blank\" href=https://colab.research.google.com/notebooks/data_table.ipynb>data table notebook</a>'\n",
              "            + ' to learn more about interactive tables.';\n",
              "          element.innerHTML = '';\n",
              "          dataTable['output_type'] = 'display_data';\n",
              "          await google.colab.output.renderOutput(dataTable, element);\n",
              "          const docLink = document.createElement('div');\n",
              "          docLink.innerHTML = docLinkHtml;\n",
              "          element.appendChild(docLink);\n",
              "        }\n",
              "      </script>\n",
              "    </div>\n",
              "  </div>\n",
              "  "
            ]
          },
          "metadata": {},
          "execution_count": 11
        }
      ]
    },
    {
      "cell_type": "code",
      "source": [
        "df.drop(df.loc[df[\"Weight\"] == 0].index, inplace=True)"
      ],
      "metadata": {
        "id": "kHKSxq19D5Db"
      },
      "execution_count": null,
      "outputs": []
    },
    {
      "cell_type": "code",
      "source": [
        "df.describe()"
      ],
      "metadata": {
        "colab": {
          "base_uri": "https://localhost:8080/",
          "height": 300
        },
        "id": "6E1598jeEQsV",
        "outputId": "35bef0aa-1df4-4e7b-8982-49a2f254215e"
      },
      "execution_count": null,
      "outputs": [
        {
          "output_type": "execute_result",
          "data": {
            "text/plain": [
              "            Weight     Length1     Length2     Length3      Height       Width\n",
              "count   158.000000  156.000000  156.000000  149.000000  155.000000  156.000000\n",
              "mean    400.847468   26.125641   28.217308   31.252349    8.922822    4.423649\n",
              "std     357.697796    9.955034   10.422334   11.087457    4.259720    1.698335\n",
              "min       5.900000    7.500000    8.400000   10.800000    1.728400    1.047600\n",
              "25%     121.250000   19.075000   21.000000   23.500000    5.944800    3.390675\n",
              "50%     281.500000   25.100000   27.150000   30.000000    7.786000    4.277050\n",
              "75%     650.000000   32.550000   35.250000   39.600000   12.143400    5.623650\n",
              "max    1650.000000   59.000000   60.000000   64.000000   18.957000    8.142000"
            ],
            "text/html": [
              "\n",
              "  <div id=\"df-54f11211-0146-46ed-bbfc-838a7dbc0831\">\n",
              "    <div class=\"colab-df-container\">\n",
              "      <div>\n",
              "<style scoped>\n",
              "    .dataframe tbody tr th:only-of-type {\n",
              "        vertical-align: middle;\n",
              "    }\n",
              "\n",
              "    .dataframe tbody tr th {\n",
              "        vertical-align: top;\n",
              "    }\n",
              "\n",
              "    .dataframe thead th {\n",
              "        text-align: right;\n",
              "    }\n",
              "</style>\n",
              "<table border=\"1\" class=\"dataframe\">\n",
              "  <thead>\n",
              "    <tr style=\"text-align: right;\">\n",
              "      <th></th>\n",
              "      <th>Weight</th>\n",
              "      <th>Length1</th>\n",
              "      <th>Length2</th>\n",
              "      <th>Length3</th>\n",
              "      <th>Height</th>\n",
              "      <th>Width</th>\n",
              "    </tr>\n",
              "  </thead>\n",
              "  <tbody>\n",
              "    <tr>\n",
              "      <th>count</th>\n",
              "      <td>158.000000</td>\n",
              "      <td>156.000000</td>\n",
              "      <td>156.000000</td>\n",
              "      <td>149.000000</td>\n",
              "      <td>155.000000</td>\n",
              "      <td>156.000000</td>\n",
              "    </tr>\n",
              "    <tr>\n",
              "      <th>mean</th>\n",
              "      <td>400.847468</td>\n",
              "      <td>26.125641</td>\n",
              "      <td>28.217308</td>\n",
              "      <td>31.252349</td>\n",
              "      <td>8.922822</td>\n",
              "      <td>4.423649</td>\n",
              "    </tr>\n",
              "    <tr>\n",
              "      <th>std</th>\n",
              "      <td>357.697796</td>\n",
              "      <td>9.955034</td>\n",
              "      <td>10.422334</td>\n",
              "      <td>11.087457</td>\n",
              "      <td>4.259720</td>\n",
              "      <td>1.698335</td>\n",
              "    </tr>\n",
              "    <tr>\n",
              "      <th>min</th>\n",
              "      <td>5.900000</td>\n",
              "      <td>7.500000</td>\n",
              "      <td>8.400000</td>\n",
              "      <td>10.800000</td>\n",
              "      <td>1.728400</td>\n",
              "      <td>1.047600</td>\n",
              "    </tr>\n",
              "    <tr>\n",
              "      <th>25%</th>\n",
              "      <td>121.250000</td>\n",
              "      <td>19.075000</td>\n",
              "      <td>21.000000</td>\n",
              "      <td>23.500000</td>\n",
              "      <td>5.944800</td>\n",
              "      <td>3.390675</td>\n",
              "    </tr>\n",
              "    <tr>\n",
              "      <th>50%</th>\n",
              "      <td>281.500000</td>\n",
              "      <td>25.100000</td>\n",
              "      <td>27.150000</td>\n",
              "      <td>30.000000</td>\n",
              "      <td>7.786000</td>\n",
              "      <td>4.277050</td>\n",
              "    </tr>\n",
              "    <tr>\n",
              "      <th>75%</th>\n",
              "      <td>650.000000</td>\n",
              "      <td>32.550000</td>\n",
              "      <td>35.250000</td>\n",
              "      <td>39.600000</td>\n",
              "      <td>12.143400</td>\n",
              "      <td>5.623650</td>\n",
              "    </tr>\n",
              "    <tr>\n",
              "      <th>max</th>\n",
              "      <td>1650.000000</td>\n",
              "      <td>59.000000</td>\n",
              "      <td>60.000000</td>\n",
              "      <td>64.000000</td>\n",
              "      <td>18.957000</td>\n",
              "      <td>8.142000</td>\n",
              "    </tr>\n",
              "  </tbody>\n",
              "</table>\n",
              "</div>\n",
              "      <button class=\"colab-df-convert\" onclick=\"convertToInteractive('df-54f11211-0146-46ed-bbfc-838a7dbc0831')\"\n",
              "              title=\"Convert this dataframe to an interactive table.\"\n",
              "              style=\"display:none;\">\n",
              "        \n",
              "  <svg xmlns=\"http://www.w3.org/2000/svg\" height=\"24px\"viewBox=\"0 0 24 24\"\n",
              "       width=\"24px\">\n",
              "    <path d=\"M0 0h24v24H0V0z\" fill=\"none\"/>\n",
              "    <path d=\"M18.56 5.44l.94 2.06.94-2.06 2.06-.94-2.06-.94-.94-2.06-.94 2.06-2.06.94zm-11 1L8.5 8.5l.94-2.06 2.06-.94-2.06-.94L8.5 2.5l-.94 2.06-2.06.94zm10 10l.94 2.06.94-2.06 2.06-.94-2.06-.94-.94-2.06-.94 2.06-2.06.94z\"/><path d=\"M17.41 7.96l-1.37-1.37c-.4-.4-.92-.59-1.43-.59-.52 0-1.04.2-1.43.59L10.3 9.45l-7.72 7.72c-.78.78-.78 2.05 0 2.83L4 21.41c.39.39.9.59 1.41.59.51 0 1.02-.2 1.41-.59l7.78-7.78 2.81-2.81c.8-.78.8-2.07 0-2.86zM5.41 20L4 18.59l7.72-7.72 1.47 1.35L5.41 20z\"/>\n",
              "  </svg>\n",
              "      </button>\n",
              "      \n",
              "  <style>\n",
              "    .colab-df-container {\n",
              "      display:flex;\n",
              "      flex-wrap:wrap;\n",
              "      gap: 12px;\n",
              "    }\n",
              "\n",
              "    .colab-df-convert {\n",
              "      background-color: #E8F0FE;\n",
              "      border: none;\n",
              "      border-radius: 50%;\n",
              "      cursor: pointer;\n",
              "      display: none;\n",
              "      fill: #1967D2;\n",
              "      height: 32px;\n",
              "      padding: 0 0 0 0;\n",
              "      width: 32px;\n",
              "    }\n",
              "\n",
              "    .colab-df-convert:hover {\n",
              "      background-color: #E2EBFA;\n",
              "      box-shadow: 0px 1px 2px rgba(60, 64, 67, 0.3), 0px 1px 3px 1px rgba(60, 64, 67, 0.15);\n",
              "      fill: #174EA6;\n",
              "    }\n",
              "\n",
              "    [theme=dark] .colab-df-convert {\n",
              "      background-color: #3B4455;\n",
              "      fill: #D2E3FC;\n",
              "    }\n",
              "\n",
              "    [theme=dark] .colab-df-convert:hover {\n",
              "      background-color: #434B5C;\n",
              "      box-shadow: 0px 1px 3px 1px rgba(0, 0, 0, 0.15);\n",
              "      filter: drop-shadow(0px 1px 2px rgba(0, 0, 0, 0.3));\n",
              "      fill: #FFFFFF;\n",
              "    }\n",
              "  </style>\n",
              "\n",
              "      <script>\n",
              "        const buttonEl =\n",
              "          document.querySelector('#df-54f11211-0146-46ed-bbfc-838a7dbc0831 button.colab-df-convert');\n",
              "        buttonEl.style.display =\n",
              "          google.colab.kernel.accessAllowed ? 'block' : 'none';\n",
              "\n",
              "        async function convertToInteractive(key) {\n",
              "          const element = document.querySelector('#df-54f11211-0146-46ed-bbfc-838a7dbc0831');\n",
              "          const dataTable =\n",
              "            await google.colab.kernel.invokeFunction('convertToInteractive',\n",
              "                                                     [key], {});\n",
              "          if (!dataTable) return;\n",
              "\n",
              "          const docLinkHtml = 'Like what you see? Visit the ' +\n",
              "            '<a target=\"_blank\" href=https://colab.research.google.com/notebooks/data_table.ipynb>data table notebook</a>'\n",
              "            + ' to learn more about interactive tables.';\n",
              "          element.innerHTML = '';\n",
              "          dataTable['output_type'] = 'display_data';\n",
              "          await google.colab.output.renderOutput(dataTable, element);\n",
              "          const docLink = document.createElement('div');\n",
              "          docLink.innerHTML = docLinkHtml;\n",
              "          element.appendChild(docLink);\n",
              "        }\n",
              "      </script>\n",
              "    </div>\n",
              "  </div>\n",
              "  "
            ]
          },
          "metadata": {},
          "execution_count": 13
        }
      ]
    },
    {
      "cell_type": "markdown",
      "source": [
        "#Explore the data:\n"
      ],
      "metadata": {
        "id": "LFAT5qUIqMyd"
      }
    },
    {
      "cell_type": "code",
      "source": [
        "# split X and y, you are predicting price\n",
        "y = df['Weight']\n",
        "X = df.drop(columns=['Weight'])\n",
        "\n",
        "# split training and test\n",
        "X_train, X_test, y_train, y_test = train_test_split(X, y, random_state=42)"
      ],
      "metadata": {
        "id": "LpkOHRxxBXrV"
      },
      "execution_count": null,
      "outputs": []
    },
    {
      "cell_type": "code",
      "source": [
        "print(X_train.shape)\n",
        "print(X_test.shape)"
      ],
      "metadata": {
        "colab": {
          "base_uri": "https://localhost:8080/"
        },
        "id": "HPytbGGtCAln",
        "outputId": "0965aea6-45db-410b-9eb8-466991eb04f7"
      },
      "execution_count": null,
      "outputs": [
        {
          "output_type": "stream",
          "name": "stdout",
          "text": [
            "(118, 6)\n",
            "(40, 6)\n"
          ]
        }
      ]
    },
    {
      "cell_type": "markdown",
      "source": [
        "##Create at least two different types of exploratory visualizations.\n"
      ],
      "metadata": {
        "id": "H1riNARYsjfb"
      }
    },
    {
      "cell_type": "code",
      "source": [
        "# Histogram\n",
        "ax = sns.histplot(data=df, x='Weight', bins=\"auto\", edgecolor = 'black') \n",
        "ax.tick_params(axis='x', rotation = 45)\n",
        "## Set the Title\n",
        "ax.set_title('Count of Different Weights');"
      ],
      "metadata": {
        "colab": {
          "base_uri": "https://localhost:8080/",
          "height": 492
        },
        "id": "KHKwSNaeF0TK",
        "outputId": "e8f1b7c3-23d6-4080-d9a9-08527a7a512f"
      },
      "execution_count": null,
      "outputs": [
        {
          "output_type": "display_data",
          "data": {
            "text/plain": [
              "<Figure size 640x480 with 1 Axes>"
            ],
            "image/png": "[encoded data removed]"
          },
          "metadata": {}
        }
      ]
    },
    {
      "cell_type": "code",
      "source": [
        "# Boxplot\n",
        "ax = sns.boxplot(x='Species', y='Weight', data=df)\n",
        "ax.set_title(\"Distribution of Fish Weight and Height\");"
      ],
      "metadata": {
        "colab": {
          "base_uri": "https://localhost:8080/",
          "height": 472
        },
        "id": "GglC1RD-EsjD",
        "outputId": "db619b89-6c97-4cd6-f37b-06948481cdc5"
      },
      "execution_count": null,
      "outputs": [
        {
          "output_type": "display_data",
          "data": {
            "text/plain": [
              "<Figure size 640x480 with 1 Axes>"
            ],
            "image/png": "[encoded data removed]"
          },
          "metadata": {}
        }
      ]
    },
    {
      "cell_type": "code",
      "source": [
        "# Heatmap\n",
        "corr = df.corr()\n",
        "mask = np.triu(np.ones_like(corr))\n",
        "sns.heatmap(corr, cmap = 'YlGnBu', annot = True, fmt=\".2f\", mask = mask)"
      ],
      "metadata": {
        "colab": {
          "base_uri": "https://localhost:8080/",
          "height": 504
        },
        "id": "yJU00caPE-2y",
        "outputId": "f2578bea-1868-4458-bf4b-f8b1c71c6a4d"
      },
      "execution_count": null,
      "outputs": [
        {
          "output_type": "stream",
          "name": "stderr",
          "text": [
            "<ipython-input-18-8e156e2d3ddd>:2: FutureWarning: The default value of numeric_only in DataFrame.corr is deprecated. In a future version, it will default to False. Select only valid columns or specify the value of numeric_only to silence this warning.\n",
            "  corr = df.corr()\n"
          ]
        },
        {
          "output_type": "execute_result",
          "data": {
            "text/plain": [
              "<Axes: >"
            ]
          },
          "metadata": {},
          "execution_count": 18
        },
        {
          "output_type": "display_data",
          "data": {
            "text/plain": [
              "<Figure size 640x480 with 2 Axes>"
            ],
            "image/png": "[encoded data removed]"
          },
          "metadata": {}
        }
      ]
    },
    {
      "cell_type": "markdown",
      "source": [
        "##Write one to two sentences about what each visualization tells you about the data."
      ],
      "metadata": {
        "id": "t89bJPLbslFU"
      }
    },
    {
      "cell_type": "markdown",
      "source": [
        "- Histogram shows the number of weights that occur in a particular range of values. Looks like most of the species are Perch.\n",
        "\n",
        "- On boxplot, we compare the distribution on weight on each species. It is observed that there are visible outliers on Roach. And the weight on Pike varies broader.\n",
        "\n",
        "- Heatmap suggests the correlation bewteen all numercial columns. We can observe from results above that weight has very high corr with Length 1, Length 2 and Length 3."
      ],
      "metadata": {
        "id": "Zk8EA3aoJNy6"
      }
    },
    {
      "cell_type": "markdown",
      "source": [
        "#Prepare the data appropriately for modeling:\n"
      ],
      "metadata": {
        "id": "FE-bBirJqQMF"
      }
    },
    {
      "cell_type": "markdown",
      "source": [
        "##Implement a preprocessing pipeline to avoid data leakage.Scale the data if your model requires it.\n"
      ],
      "metadata": {
        "id": "WnbT0lXQsoH8"
      }
    },
    {
      "cell_type": "code",
      "source": [
        "# on numeric\n",
        "scaler = StandardScaler()\n",
        "num_pipeline = make_pipeline(mean_imputer, scaler)\n",
        "num_selector = make_column_selector(dtype_include=\"number\")\n",
        "num_tuple = (num_pipeline, num_selector)\n",
        "# on nominal\n",
        "ohe = OneHotEncoder(sparse_output=False, handle_unknown=\"ignore\")\n",
        "nom_pipeline = make_pipeline(missing_imputer, ohe)\n",
        "nom_selector = make_column_selector(dtype_include=\"object\")\n",
        "nom_selector = (nom_pipeline, nom_selector)\n",
        "# Instantiate the make column transformer\n",
        "preprocessor = make_column_transformer(num_tuple, nom_selector, remainder=\"drop\", verbose_feature_names_out=False)\n",
        "# Fit to X train\n",
        "preprocessor.fit(X_train)"
      ],
      "metadata": {
        "colab": {
          "base_uri": "https://localhost:8080/",
          "height": 149
        },
        "id": "DEIUugUpBwxz",
        "outputId": "12158d92-420e-4e4f-8355-49a2047a200d"
      },
      "execution_count": null,
      "outputs": [
        {
          "output_type": "execute_result",
          "data": {
            "text/plain": [
              "ColumnTransformer(transformers=[('pipeline-1',\n",
              "                                 Pipeline(steps=[('simpleimputer',\n",
              "                                                  SimpleImputer()),\n",
              "                                                 ('standardscaler',\n",
              "                                                  StandardScaler())]),\n",
              "                                 <sklearn.compose._column_transformer.make_column_selector object at 0x7f9f75300820>),\n",
              "                                ('pipeline-2',\n",
              "                                 Pipeline(steps=[('simpleimputer',\n",
              "                                                  SimpleImputer(strategy='most_frequent')),\n",
              "                                                 ('onehotencoder',\n",
              "                                                  OneHotEncoder(handle_unknown='ignore',\n",
              "                                                                sparse_output=False))]),\n",
              "                                 <sklearn.compose._column_transformer.make_column_selector object at 0x7f9f75304130>)],\n",
              "                  verbose_feature_names_out=False)"
            ],
            "text/html": [
              "<style>#sk-container-id-1 {color: black;background-color: white;}#sk-container-id-1 pre{padding: 0;}#sk-container-id-1 div.sk-toggleable {background-color: white;}#sk-container-id-1 label.sk-toggleable__label {cursor: pointer;display: block;width: 100%;margin-bottom: 0;padding: 0.3em;box-sizing: border-box;text-align: center;}#sk-container-id-1 label.sk-toggleable__label-arrow:before {content: \"▸\";float: left;margin-right: 0.25em;color: #696969;}#sk-container-id-1 label.sk-toggleable__label-arrow:hover:before {color: black;}#sk-container-id-1 div.sk-estimator:hover label.sk-toggleable__label-arrow:before {color: black;}#sk-container-id-1 div.sk-toggleable__content {max-height: 0;max-width: 0;overflow: hidden;text-align: left;background-color: #f0f8ff;}#sk-container-id-1 div.sk-toggleable__content pre {margin: 0.2em;color: black;border-radius: 0.25em;background-color: #f0f8ff;}#sk-container-id-1 input.sk-toggleable__control:checked~div.sk-toggleable__content {max-height: 200px;max-width: 100%;overflow: auto;}#sk-container-id-1 input.sk-toggleable__control:checked~label.sk-toggleable__label-arrow:before {content: \"▾\";}#sk-container-id-1 div.sk-estimator input.sk-toggleable__control:checked~label.sk-toggleable__label {background-color: #d4ebff;}#sk-container-id-1 div.sk-label input.sk-toggleable__control:checked~label.sk-toggleable__label {background-color: #d4ebff;}#sk-container-id-1 input.sk-hidden--visually {border: 0;clip: rect(1px 1px 1px 1px);clip: rect(1px, 1px, 1px, 1px);height: 1px;margin: -1px;overflow: hidden;padding: 0;position: absolute;width: 1px;}#sk-container-id-1 div.sk-estimator {font-family: monospace;background-color: #f0f8ff;border: 1px dotted black;border-radius: 0.25em;box-sizing: border-box;margin-bottom: 0.5em;}#sk-container-id-1 div.sk-estimator:hover {background-color: #d4ebff;}#sk-container-id-1 div.sk-parallel-item::after {content: \"\";width: 100%;border-bottom: 1px solid gray;flex-grow: 1;}#sk-container-id-1 div.sk-label:hover label.sk-toggleable__label {background-color: #d4ebff;}#sk-container-id-1 div.sk-serial::before {content: \"\";position: absolute;border-left: 1px solid gray;box-sizing: border-box;top: 0;bottom: 0;left: 50%;z-index: 0;}#sk-container-id-1 div.sk-serial {display: flex;flex-direction: column;align-items: center;background-color: white;padding-right: 0.2em;padding-left: 0.2em;position: relative;}#sk-container-id-1 div.sk-item {position: relative;z-index: 1;}#sk-container-id-1 div.sk-parallel {display: flex;align-items: stretch;justify-content: center;background-color: white;position: relative;}#sk-container-id-1 div.sk-item::before, #sk-container-id-1 div.sk-parallel-item::before {content: \"\";position: absolute;border-left: 1px solid gray;box-sizing: border-box;top: 0;bottom: 0;left: 50%;z-index: -1;}#sk-container-id-1 div.sk-parallel-item {display: flex;flex-direction: column;z-index: 1;position: relative;background-color: white;}#sk-container-id-1 div.sk-parallel-item:first-child::after {align-self: flex-end;width: 50%;}#sk-container-id-1 div.sk-parallel-item:last-child::after {align-self: flex-start;width: 50%;}#sk-container-id-1 div.sk-parallel-item:only-child::after {width: 0;}#sk-container-id-1 div.sk-dashed-wrapped {border: 1px dashed gray;margin: 0 0.4em 0.5em 0.4em;box-sizing: border-box;padding-bottom: 0.4em;background-color: white;}#sk-container-id-1 div.sk-label label {font-family: monospace;font-weight: bold;display: inline-block;line-height: 1.2em;}#sk-container-id-1 div.sk-label-container {text-align: center;}#sk-container-id-1 div.sk-container {/* jupyter's `normalize.less` sets `[hidden] { display: none; }` but bootstrap.min.css set `[hidden] { display: none !important; }` so we also need the `!important` here to be able to override the default hidden behavior on the sphinx rendered scikit-learn.org. See: https://github.com/scikit-learn/scikit-learn/issues/21755 */display: inline-block !important;position: relative;}#sk-container-id-1 div.sk-text-repr-fallback {display: none;}</style><div id=\"sk-container-id-1\" class=\"sk-top-container\"><div class=\"sk-text-repr-fallback\"><pre>ColumnTransformer(transformers=[(&#x27;pipeline-1&#x27;,\n",
              "                                 Pipeline(steps=[(&#x27;simpleimputer&#x27;,\n",
              "                                                  SimpleImputer()),\n",
              "                                                 (&#x27;standardscaler&#x27;,\n",
              "                                                  StandardScaler())]),\n",
              "                                 &lt;sklearn.compose._column_transformer.make_column_selector object at 0x7f9f75300820&gt;),\n",
              "                                (&#x27;pipeline-2&#x27;,\n",
              "                                 Pipeline(steps=[(&#x27;simpleimputer&#x27;,\n",
              "                                                  SimpleImputer(strategy=&#x27;most_frequent&#x27;)),\n",
              "                                                 (&#x27;onehotencoder&#x27;,\n",
              "                                                  OneHotEncoder(handle_unknown=&#x27;ignore&#x27;,\n",
              "                                                                sparse_output=False))]),\n",
              "                                 &lt;sklearn.compose._column_transformer.make_column_selector object at 0x7f9f75304130&gt;)],\n",
              "                  verbose_feature_names_out=False)</pre><b>In a Jupyter environment, please rerun this cell to show the HTML representation or trust the notebook. <br />On GitHub, the HTML representation is unable to render, please try loading this page with nbviewer.org.</b></div><div class=\"sk-container\" hidden><div class=\"sk-item sk-dashed-wrapped\"><div class=\"sk-label-container\"><div class=\"sk-label sk-toggleable\"><input class=\"sk-toggleable__control sk-hidden--visually\" id=\"sk-estimator-id-1\" type=\"checkbox\" ><label for=\"sk-estimator-id-1\" class=\"sk-toggleable__label sk-toggleable__label-arrow\">ColumnTransformer</label><div class=\"sk-toggleable__content\"><pre>ColumnTransformer(transformers=[(&#x27;pipeline-1&#x27;,\n",
              "                                 Pipeline(steps=[(&#x27;simpleimputer&#x27;,\n",
              "                                                  SimpleImputer()),\n",
              "                                                 (&#x27;standardscaler&#x27;,\n",
              "                                                  StandardScaler())]),\n",
              "                                 &lt;sklearn.compose._column_transformer.make_column_selector object at 0x7f9f75300820&gt;),\n",
              "                                (&#x27;pipeline-2&#x27;,\n",
              "                                 Pipeline(steps=[(&#x27;simpleimputer&#x27;,\n",
              "                                                  SimpleImputer(strategy=&#x27;most_frequent&#x27;)),\n",
              "                                                 (&#x27;onehotencoder&#x27;,\n",
              "                                                  OneHotEncoder(handle_unknown=&#x27;ignore&#x27;,\n",
              "                                                                sparse_output=False))]),\n",
              "                                 &lt;sklearn.compose._column_transformer.make_column_selector object at 0x7f9f75304130&gt;)],\n",
              "                  verbose_feature_names_out=False)</pre></div></div></div><div class=\"sk-parallel\"><div class=\"sk-parallel-item\"><div class=\"sk-item\"><div class=\"sk-label-container\"><div class=\"sk-label sk-toggleable\"><input class=\"sk-toggleable__control sk-hidden--visually\" id=\"sk-estimator-id-2\" type=\"checkbox\" ><label for=\"sk-estimator-id-2\" class=\"sk-toggleable__label sk-toggleable__label-arrow\">pipeline-1</label><div class=\"sk-toggleable__content\"><pre>&lt;sklearn.compose._column_transformer.make_column_selector object at 0x7f9f75300820&gt;</pre></div></div></div><div class=\"sk-serial\"><div class=\"sk-item\"><div class=\"sk-serial\"><div class=\"sk-item\"><div class=\"sk-estimator sk-toggleable\"><input class=\"sk-toggleable__control sk-hidden--visually\" id=\"sk-estimator-id-3\" type=\"checkbox\" ><label for=\"sk-estimator-id-3\" class=\"sk-toggleable__label sk-toggleable__label-arrow\">SimpleImputer</label><div class=\"sk-toggleable__content\"><pre>SimpleImputer()</pre></div></div></div><div class=\"sk-item\"><div class=\"sk-estimator sk-toggleable\"><input class=\"sk-toggleable__control sk-hidden--visually\" id=\"sk-estimator-id-4\" type=\"checkbox\" ><label for=\"sk-estimator-id-4\" class=\"sk-toggleable__label sk-toggleable__label-arrow\">StandardScaler</label><div class=\"sk-toggleable__content\"><pre>StandardScaler()</pre></div></div></div></div></div></div></div></div><div class=\"sk-parallel-item\"><div class=\"sk-item\"><div class=\"sk-label-container\"><div class=\"sk-label sk-toggleable\"><input class=\"sk-toggleable__control sk-hidden--visually\" id=\"sk-estimator-id-5\" type=\"checkbox\" ><label for=\"sk-estimator-id-5\" class=\"sk-toggleable__label sk-toggleable__label-arrow\">pipeline-2</label><div class=\"sk-toggleable__content\"><pre>&lt;sklearn.compose._column_transformer.make_column_selector object at 0x7f9f75304130&gt;</pre></div></div></div><div class=\"sk-serial\"><div class=\"sk-item\"><div class=\"sk-serial\"><div class=\"sk-item\"><div class=\"sk-estimator sk-toggleable\"><input class=\"sk-toggleable__control sk-hidden--visually\" id=\"sk-estimator-id-6\" type=\"checkbox\" ><label for=\"sk-estimator-id-6\" class=\"sk-toggleable__label sk-toggleable__label-arrow\">SimpleImputer</label><div class=\"sk-toggleable__content\"><pre>SimpleImputer(strategy=&#x27;most_frequent&#x27;)</pre></div></div></div><div class=\"sk-item\"><div class=\"sk-estimator sk-toggleable\"><input class=\"sk-toggleable__control sk-hidden--visually\" id=\"sk-estimator-id-7\" type=\"checkbox\" ><label for=\"sk-estimator-id-7\" class=\"sk-toggleable__label sk-toggleable__label-arrow\">OneHotEncoder</label><div class=\"sk-toggleable__content\"><pre>OneHotEncoder(handle_unknown=&#x27;ignore&#x27;, sparse_output=False)</pre></div></div></div></div></div></div></div></div></div></div></div></div>"
            ]
          },
          "metadata": {},
          "execution_count": 19
        }
      ]
    },
    {
      "cell_type": "code",
      "source": [
        "X_train_processed = preprocessor.transform(X_train)\n",
        "X_test_processed = preprocessor.transform(X_test)\n",
        "\n",
        "cols = preprocessor.get_feature_names_out() \n",
        "\n",
        "# Transform np arrays to dataframes\n",
        "X_train_processed_df = pd.DataFrame(X_train_processed, \n",
        "                          columns = cols,\n",
        "                          index = X_train.index)\n",
        "\n",
        "X_test_processed_df = pd.DataFrame(X_test_processed, \n",
        "                         columns = cols,\n",
        "                         index = X_test.index)\n",
        "\n",
        "# View the transformations \n",
        "X_train_df = pd.DataFrame(X_train_processed, columns=cols)\n",
        "X_test_df = pd.DataFrame(X_test_processed, columns=cols)\n",
        "X_test_df.head()"
      ],
      "metadata": {
        "colab": {
          "base_uri": "https://localhost:8080/",
          "height": 270
        },
        "id": "4kk96uCZQ3lP",
        "outputId": "eb52f835-939b-400e-a115-d20e2f50482b"
      },
      "execution_count": null,
      "outputs": [
        {
          "output_type": "execute_result",
          "data": {
            "text/plain": [
              "    Length1   Length2   Length3    Height     Width  Species_Bream  \\\n",
              "0  0.587950  0.615743  0.650650 -0.767138 -0.144867            0.0   \n",
              "1 -0.503795 -0.532267 -0.584173 -0.557662 -0.650735            0.0   \n",
              "2  1.434818  1.464272  1.393474 -0.489263  0.037925            0.0   \n",
              "3 -1.299647 -1.350848 -1.529585 -1.472273 -1.414577            0.0   \n",
              "4 -0.554811 -0.532267 -0.680644 -0.730277 -0.469157            0.0   \n",
              "\n",
              "   Species_Parkki  Species_Perch  Species_Pike  Species_Roach  Species_Smelt  \\\n",
              "0             0.0            0.0           1.0            0.0            0.0   \n",
              "1             0.0            1.0           0.0            0.0            0.0   \n",
              "2             0.0            0.0           1.0            0.0            0.0   \n",
              "3             0.0            0.0           0.0            0.0            1.0   \n",
              "4             0.0            1.0           0.0            0.0            0.0   \n",
              "\n",
              "   Species_Whitefish  \n",
              "0                0.0  \n",
              "1                0.0  \n",
              "2                0.0  \n",
              "3                0.0  \n",
              "4                0.0  "
            ],
            "text/html": [
              "\n",
              "  <div id=\"df-63aa9963-100e-49ae-b408-8c71afd68db5\">\n",
              "    <div class=\"colab-df-container\">\n",
              "      <div>\n",
              "<style scoped>\n",
              "    .dataframe tbody tr th:only-of-type {\n",
              "        vertical-align: middle;\n",
              "    }\n",
              "\n",
              "    .dataframe tbody tr th {\n",
              "        vertical-align: top;\n",
              "    }\n",
              "\n",
              "    .dataframe thead th {\n",
              "        text-align: right;\n",
              "    }\n",
              "</style>\n",
              "<table border=\"1\" class=\"dataframe\">\n",
              "  <thead>\n",
              "    <tr style=\"text-align: right;\">\n",
              "      <th></th>\n",
              "      <th>Length1</th>\n",
              "      <th>Length2</th>\n",
              "      <th>Length3</th>\n",
              "      <th>Height</th>\n",
              "      <th>Width</th>\n",
              "      <th>Species_Bream</th>\n",
              "      <th>Species_Parkki</th>\n",
              "      <th>Species_Perch</th>\n",
              "      <th>Species_Pike</th>\n",
              "      <th>Species_Roach</th>\n",
              "      <th>Species_Smelt</th>\n",
              "      <th>Species_Whitefish</th>\n",
              "    </tr>\n",
              "  </thead>\n",
              "  <tbody>\n",
              "    <tr>\n",
              "      <th>0</th>\n",
              "      <td>0.587950</td>\n",
              "      <td>0.615743</td>\n",
              "      <td>0.650650</td>\n",
              "      <td>-0.767138</td>\n",
              "      <td>-0.144867</td>\n",
              "      <td>0.0</td>\n",
              "      <td>0.0</td>\n",
              "      <td>0.0</td>\n",
              "      <td>1.0</td>\n",
              "      <td>0.0</td>\n",
              "      <td>0.0</td>\n",
              "      <td>0.0</td>\n",
              "    </tr>\n",
              "    <tr>\n",
              "      <th>1</th>\n",
              "      <td>-0.503795</td>\n",
              "      <td>-0.532267</td>\n",
              "      <td>-0.584173</td>\n",
              "      <td>-0.557662</td>\n",
              "      <td>-0.650735</td>\n",
              "      <td>0.0</td>\n",
              "      <td>0.0</td>\n",
              "      <td>1.0</td>\n",
              "      <td>0.0</td>\n",
              "      <td>0.0</td>\n",
              "      <td>0.0</td>\n",
              "      <td>0.0</td>\n",
              "    </tr>\n",
              "    <tr>\n",
              "      <th>2</th>\n",
              "      <td>1.434818</td>\n",
              "      <td>1.464272</td>\n",
              "      <td>1.393474</td>\n",
              "      <td>-0.489263</td>\n",
              "      <td>0.037925</td>\n",
              "      <td>0.0</td>\n",
              "      <td>0.0</td>\n",
              "      <td>0.0</td>\n",
              "      <td>1.0</td>\n",
              "      <td>0.0</td>\n",
              "      <td>0.0</td>\n",
              "      <td>0.0</td>\n",
              "    </tr>\n",
              "    <tr>\n",
              "      <th>3</th>\n",
              "      <td>-1.299647</td>\n",
              "      <td>-1.350848</td>\n",
              "      <td>-1.529585</td>\n",
              "      <td>-1.472273</td>\n",
              "      <td>-1.414577</td>\n",
              "      <td>0.0</td>\n",
              "      <td>0.0</td>\n",
              "      <td>0.0</td>\n",
              "      <td>0.0</td>\n",
              "      <td>0.0</td>\n",
              "      <td>1.0</td>\n",
              "      <td>0.0</td>\n",
              "    </tr>\n",
              "    <tr>\n",
              "      <th>4</th>\n",
              "      <td>-0.554811</td>\n",
              "      <td>-0.532267</td>\n",
              "      <td>-0.680644</td>\n",
              "      <td>-0.730277</td>\n",
              "      <td>-0.469157</td>\n",
              "      <td>0.0</td>\n",
              "      <td>0.0</td>\n",
              "      <td>1.0</td>\n",
              "      <td>0.0</td>\n",
              "      <td>0.0</td>\n",
              "      <td>0.0</td>\n",
              "      <td>0.0</td>\n",
              "    </tr>\n",
              "  </tbody>\n",
              "</table>\n",
              "</div>\n",
              "      <button class=\"colab-df-convert\" onclick=\"convertToInteractive('df-63aa9963-100e-49ae-b408-8c71afd68db5')\"\n",
              "              title=\"Convert this dataframe to an interactive table.\"\n",
              "              style=\"display:none;\">\n",
              "        \n",
              "  <svg xmlns=\"http://www.w3.org/2000/svg\" height=\"24px\"viewBox=\"0 0 24 24\"\n",
              "       width=\"24px\">\n",
              "    <path d=\"M0 0h24v24H0V0z\" fill=\"none\"/>\n",
              "    <path d=\"M18.56 5.44l.94 2.06.94-2.06 2.06-.94-2.06-.94-.94-2.06-.94 2.06-2.06.94zm-11 1L8.5 8.5l.94-2.06 2.06-.94-2.06-.94L8.5 2.5l-.94 2.06-2.06.94zm10 10l.94 2.06.94-2.06 2.06-.94-2.06-.94-.94-2.06-.94 2.06-2.06.94z\"/><path d=\"M17.41 7.96l-1.37-1.37c-.4-.4-.92-.59-1.43-.59-.52 0-1.04.2-1.43.59L10.3 9.45l-7.72 7.72c-.78.78-.78 2.05 0 2.83L4 21.41c.39.39.9.59 1.41.59.51 0 1.02-.2 1.41-.59l7.78-7.78 2.81-2.81c.8-.78.8-2.07 0-2.86zM5.41 20L4 18.59l7.72-7.72 1.47 1.35L5.41 20z\"/>\n",
              "  </svg>\n",
              "      </button>\n",
              "      \n",
              "  <style>\n",
              "    .colab-df-container {\n",
              "      display:flex;\n",
              "      flex-wrap:wrap;\n",
              "      gap: 12px;\n",
              "    }\n",
              "\n",
              "    .colab-df-convert {\n",
              "      background-color: #E8F0FE;\n",
              "      border: none;\n",
              "      border-radius: 50%;\n",
              "      cursor: pointer;\n",
              "      display: none;\n",
              "      fill: #1967D2;\n",
              "      height: 32px;\n",
              "      padding: 0 0 0 0;\n",
              "      width: 32px;\n",
              "    }\n",
              "\n",
              "    .colab-df-convert:hover {\n",
              "      background-color: #E2EBFA;\n",
              "      box-shadow: 0px 1px 2px rgba(60, 64, 67, 0.3), 0px 1px 3px 1px rgba(60, 64, 67, 0.15);\n",
              "      fill: #174EA6;\n",
              "    }\n",
              "\n",
              "    [theme=dark] .colab-df-convert {\n",
              "      background-color: #3B4455;\n",
              "      fill: #D2E3FC;\n",
              "    }\n",
              "\n",
              "    [theme=dark] .colab-df-convert:hover {\n",
              "      background-color: #434B5C;\n",
              "      box-shadow: 0px 1px 3px 1px rgba(0, 0, 0, 0.15);\n",
              "      filter: drop-shadow(0px 1px 2px rgba(0, 0, 0, 0.3));\n",
              "      fill: #FFFFFF;\n",
              "    }\n",
              "  </style>\n",
              "\n",
              "      <script>\n",
              "        const buttonEl =\n",
              "          document.querySelector('#df-63aa9963-100e-49ae-b408-8c71afd68db5 button.colab-df-convert');\n",
              "        buttonEl.style.display =\n",
              "          google.colab.kernel.accessAllowed ? 'block' : 'none';\n",
              "\n",
              "        async function convertToInteractive(key) {\n",
              "          const element = document.querySelector('#df-63aa9963-100e-49ae-b408-8c71afd68db5');\n",
              "          const dataTable =\n",
              "            await google.colab.kernel.invokeFunction('convertToInteractive',\n",
              "                                                     [key], {});\n",
              "          if (!dataTable) return;\n",
              "\n",
              "          const docLinkHtml = 'Like what you see? Visit the ' +\n",
              "            '<a target=\"_blank\" href=https://colab.research.google.com/notebooks/data_table.ipynb>data table notebook</a>'\n",
              "            + ' to learn more about interactive tables.';\n",
              "          element.innerHTML = '';\n",
              "          dataTable['output_type'] = 'display_data';\n",
              "          await google.colab.output.renderOutput(dataTable, element);\n",
              "          const docLink = document.createElement('div');\n",
              "          docLink.innerHTML = docLinkHtml;\n",
              "          element.appendChild(docLink);\n",
              "        }\n",
              "      </script>\n",
              "    </div>\n",
              "  </div>\n",
              "  "
            ]
          },
          "metadata": {},
          "execution_count": 20
        }
      ]
    },
    {
      "cell_type": "code",
      "source": [
        "X_test_df.describe().round(2)"
      ],
      "metadata": {
        "colab": {
          "base_uri": "https://localhost:8080/",
          "height": 364
        },
        "id": "mEFeh3HfouGn",
        "outputId": "3b594a75-669f-4851-9b09-c79217e6b34e"
      },
      "execution_count": null,
      "outputs": [
        {
          "output_type": "execute_result",
          "data": {
            "text/plain": [
              "       Length1  Length2  Length3  Height  Width  Species_Bream  \\\n",
              "count    40.00    40.00    40.00   40.00  40.00          40.00   \n",
              "mean      0.07     0.15     0.07    0.13   0.06           0.22   \n",
              "std       1.03     1.12     1.15    1.18   1.09           0.42   \n",
              "min      -1.63    -1.73    -1.88   -1.76  -1.97           0.00   \n",
              "25%      -0.58    -0.59    -0.67   -0.73  -0.51           0.00   \n",
              "50%      -0.11    -0.06    -0.10   -0.03  -0.05           0.00   \n",
              "75%       0.66     0.95     0.93    0.96   0.88           0.00   \n",
              "max       2.66     2.81     2.76    2.53   2.27           1.00   \n",
              "\n",
              "       Species_Parkki  Species_Perch  Species_Pike  Species_Roach  \\\n",
              "count           40.00          40.00         40.00          40.00   \n",
              "mean             0.08           0.35          0.12           0.05   \n",
              "std              0.27           0.48          0.33           0.22   \n",
              "min              0.00           0.00          0.00           0.00   \n",
              "25%              0.00           0.00          0.00           0.00   \n",
              "50%              0.00           0.00          0.00           0.00   \n",
              "75%              0.00           1.00          0.00           0.00   \n",
              "max              1.00           1.00          1.00           1.00   \n",
              "\n",
              "       Species_Smelt  Species_Whitefish  \n",
              "count          40.00              40.00  \n",
              "mean            0.12               0.05  \n",
              "std             0.33               0.22  \n",
              "min             0.00               0.00  \n",
              "25%             0.00               0.00  \n",
              "50%             0.00               0.00  \n",
              "75%             0.00               0.00  \n",
              "max             1.00               1.00  "
            ],
            "text/html": [
              "\n",
              "  <div id=\"df-b54a708a-59ff-4bd9-8843-18f57e6afb6c\">\n",
              "    <div class=\"colab-df-container\">\n",
              "      <div>\n",
              "<style scoped>\n",
              "    .dataframe tbody tr th:only-of-type {\n",
              "        vertical-align: middle;\n",
              "    }\n",
              "\n",
              "    .dataframe tbody tr th {\n",
              "        vertical-align: top;\n",
              "    }\n",
              "\n",
              "    .dataframe thead th {\n",
              "        text-align: right;\n",
              "    }\n",
              "</style>\n",
              "<table border=\"1\" class=\"dataframe\">\n",
              "  <thead>\n",
              "    <tr style=\"text-align: right;\">\n",
              "      <th></th>\n",
              "      <th>Length1</th>\n",
              "      <th>Length2</th>\n",
              "      <th>Length3</th>\n",
              "      <th>Height</th>\n",
              "      <th>Width</th>\n",
              "      <th>Species_Bream</th>\n",
              "      <th>Species_Parkki</th>\n",
              "      <th>Species_Perch</th>\n",
              "      <th>Species_Pike</th>\n",
              "      <th>Species_Roach</th>\n",
              "      <th>Species_Smelt</th>\n",
              "      <th>Species_Whitefish</th>\n",
              "    </tr>\n",
              "  </thead>\n",
              "  <tbody>\n",
              "    <tr>\n",
              "      <th>count</th>\n",
              "      <td>40.00</td>\n",
              "      <td>40.00</td>\n",
              "      <td>40.00</td>\n",
              "      <td>40.00</td>\n",
              "      <td>40.00</td>\n",
              "      <td>40.00</td>\n",
              "      <td>40.00</td>\n",
              "      <td>40.00</td>\n",
              "      <td>40.00</td>\n",
              "      <td>40.00</td>\n",
              "      <td>40.00</td>\n",
              "      <td>40.00</td>\n",
              "    </tr>\n",
              "    <tr>\n",
              "      <th>mean</th>\n",
              "      <td>0.07</td>\n",
              "      <td>0.15</td>\n",
              "      <td>0.07</td>\n",
              "      <td>0.13</td>\n",
              "      <td>0.06</td>\n",
              "      <td>0.22</td>\n",
              "      <td>0.08</td>\n",
              "      <td>0.35</td>\n",
              "      <td>0.12</td>\n",
              "      <td>0.05</td>\n",
              "      <td>0.12</td>\n",
              "      <td>0.05</td>\n",
              "    </tr>\n",
              "    <tr>\n",
              "      <th>std</th>\n",
              "      <td>1.03</td>\n",
              "      <td>1.12</td>\n",
              "      <td>1.15</td>\n",
              "      <td>1.18</td>\n",
              "      <td>1.09</td>\n",
              "      <td>0.42</td>\n",
              "      <td>0.27</td>\n",
              "      <td>0.48</td>\n",
              "      <td>0.33</td>\n",
              "      <td>0.22</td>\n",
              "      <td>0.33</td>\n",
              "      <td>0.22</td>\n",
              "    </tr>\n",
              "    <tr>\n",
              "      <th>min</th>\n",
              "      <td>-1.63</td>\n",
              "      <td>-1.73</td>\n",
              "      <td>-1.88</td>\n",
              "      <td>-1.76</td>\n",
              "      <td>-1.97</td>\n",
              "      <td>0.00</td>\n",
              "      <td>0.00</td>\n",
              "      <td>0.00</td>\n",
              "      <td>0.00</td>\n",
              "      <td>0.00</td>\n",
              "      <td>0.00</td>\n",
              "      <td>0.00</td>\n",
              "    </tr>\n",
              "    <tr>\n",
              "      <th>25%</th>\n",
              "      <td>-0.58</td>\n",
              "      <td>-0.59</td>\n",
              "      <td>-0.67</td>\n",
              "      <td>-0.73</td>\n",
              "      <td>-0.51</td>\n",
              "      <td>0.00</td>\n",
              "      <td>0.00</td>\n",
              "      <td>0.00</td>\n",
              "      <td>0.00</td>\n",
              "      <td>0.00</td>\n",
              "      <td>0.00</td>\n",
              "      <td>0.00</td>\n",
              "    </tr>\n",
              "    <tr>\n",
              "      <th>50%</th>\n",
              "      <td>-0.11</td>\n",
              "      <td>-0.06</td>\n",
              "      <td>-0.10</td>\n",
              "      <td>-0.03</td>\n",
              "      <td>-0.05</td>\n",
              "      <td>0.00</td>\n",
              "      <td>0.00</td>\n",
              "      <td>0.00</td>\n",
              "      <td>0.00</td>\n",
              "      <td>0.00</td>\n",
              "      <td>0.00</td>\n",
              "      <td>0.00</td>\n",
              "    </tr>\n",
              "    <tr>\n",
              "      <th>75%</th>\n",
              "      <td>0.66</td>\n",
              "      <td>0.95</td>\n",
              "      <td>0.93</td>\n",
              "      <td>0.96</td>\n",
              "      <td>0.88</td>\n",
              "      <td>0.00</td>\n",
              "      <td>0.00</td>\n",
              "      <td>1.00</td>\n",
              "      <td>0.00</td>\n",
              "      <td>0.00</td>\n",
              "      <td>0.00</td>\n",
              "      <td>0.00</td>\n",
              "    </tr>\n",
              "    <tr>\n",
              "      <th>max</th>\n",
              "      <td>2.66</td>\n",
              "      <td>2.81</td>\n",
              "      <td>2.76</td>\n",
              "      <td>2.53</td>\n",
              "      <td>2.27</td>\n",
              "      <td>1.00</td>\n",
              "      <td>1.00</td>\n",
              "      <td>1.00</td>\n",
              "      <td>1.00</td>\n",
              "      <td>1.00</td>\n",
              "      <td>1.00</td>\n",
              "      <td>1.00</td>\n",
              "    </tr>\n",
              "  </tbody>\n",
              "</table>\n",
              "</div>\n",
              "      <button class=\"colab-df-convert\" onclick=\"convertToInteractive('df-b54a708a-59ff-4bd9-8843-18f57e6afb6c')\"\n",
              "              title=\"Convert this dataframe to an interactive table.\"\n",
              "              style=\"display:none;\">\n",
              "        \n",
              "  <svg xmlns=\"http://www.w3.org/2000/svg\" height=\"24px\"viewBox=\"0 0 24 24\"\n",
              "       width=\"24px\">\n",
              "    <path d=\"M0 0h24v24H0V0z\" fill=\"none\"/>\n",
              "    <path d=\"M18.56 5.44l.94 2.06.94-2.06 2.06-.94-2.06-.94-.94-2.06-.94 2.06-2.06.94zm-11 1L8.5 8.5l.94-2.06 2.06-.94-2.06-.94L8.5 2.5l-.94 2.06-2.06.94zm10 10l.94 2.06.94-2.06 2.06-.94-2.06-.94-.94-2.06-.94 2.06-2.06.94z\"/><path d=\"M17.41 7.96l-1.37-1.37c-.4-.4-.92-.59-1.43-.59-.52 0-1.04.2-1.43.59L10.3 9.45l-7.72 7.72c-.78.78-.78 2.05 0 2.83L4 21.41c.39.39.9.59 1.41.59.51 0 1.02-.2 1.41-.59l7.78-7.78 2.81-2.81c.8-.78.8-2.07 0-2.86zM5.41 20L4 18.59l7.72-7.72 1.47 1.35L5.41 20z\"/>\n",
              "  </svg>\n",
              "      </button>\n",
              "      \n",
              "  <style>\n",
              "    .colab-df-container {\n",
              "      display:flex;\n",
              "      flex-wrap:wrap;\n",
              "      gap: 12px;\n",
              "    }\n",
              "\n",
              "    .colab-df-convert {\n",
              "      background-color: #E8F0FE;\n",
              "      border: none;\n",
              "      border-radius: 50%;\n",
              "      cursor: pointer;\n",
              "      display: none;\n",
              "      fill: #1967D2;\n",
              "      height: 32px;\n",
              "      padding: 0 0 0 0;\n",
              "      width: 32px;\n",
              "    }\n",
              "\n",
              "    .colab-df-convert:hover {\n",
              "      background-color: #E2EBFA;\n",
              "      box-shadow: 0px 1px 2px rgba(60, 64, 67, 0.3), 0px 1px 3px 1px rgba(60, 64, 67, 0.15);\n",
              "      fill: #174EA6;\n",
              "    }\n",
              "\n",
              "    [theme=dark] .colab-df-convert {\n",
              "      background-color: #3B4455;\n",
              "      fill: #D2E3FC;\n",
              "    }\n",
              "\n",
              "    [theme=dark] .colab-df-convert:hover {\n",
              "      background-color: #434B5C;\n",
              "      box-shadow: 0px 1px 3px 1px rgba(0, 0, 0, 0.15);\n",
              "      filter: drop-shadow(0px 1px 2px rgba(0, 0, 0, 0.3));\n",
              "      fill: #FFFFFF;\n",
              "    }\n",
              "  </style>\n",
              "\n",
              "      <script>\n",
              "        const buttonEl =\n",
              "          document.querySelector('#df-b54a708a-59ff-4bd9-8843-18f57e6afb6c button.colab-df-convert');\n",
              "        buttonEl.style.display =\n",
              "          google.colab.kernel.accessAllowed ? 'block' : 'none';\n",
              "\n",
              "        async function convertToInteractive(key) {\n",
              "          const element = document.querySelector('#df-b54a708a-59ff-4bd9-8843-18f57e6afb6c');\n",
              "          const dataTable =\n",
              "            await google.colab.kernel.invokeFunction('convertToInteractive',\n",
              "                                                     [key], {});\n",
              "          if (!dataTable) return;\n",
              "\n",
              "          const docLinkHtml = 'Like what you see? Visit the ' +\n",
              "            '<a target=\"_blank\" href=https://colab.research.google.com/notebooks/data_table.ipynb>data table notebook</a>'\n",
              "            + ' to learn more about interactive tables.';\n",
              "          element.innerHTML = '';\n",
              "          dataTable['output_type'] = 'display_data';\n",
              "          await google.colab.output.renderOutput(dataTable, element);\n",
              "          const docLink = document.createElement('div');\n",
              "          docLink.innerHTML = docLinkHtml;\n",
              "          element.appendChild(docLink);\n",
              "        }\n",
              "      </script>\n",
              "    </div>\n",
              "  </div>\n",
              "  "
            ]
          },
          "metadata": {},
          "execution_count": 21
        }
      ]
    },
    {
      "cell_type": "markdown",
      "source": [
        "##Write a justification for how you encode the variables (ordinal encoding vs one-hot encoding)."
      ],
      "metadata": {
        "id": "7-wmYcQ5ssMS"
      }
    },
    {
      "cell_type": "markdown",
      "source": [
        "There are two types of columns in this dataset: numercial and nominal. The former ones, I simply scale them and the latter one, OneHotEncoder is applied to let computer find relationships between the nominal and other variables in the context of a dataset."
      ],
      "metadata": {
        "id": "JkbV0C1OL8sD"
      }
    },
    {
      "cell_type": "markdown",
      "source": [
        "#Create and compare at least 2 different models:\n",
        "\n",
        "Since we are predicting \"Weights\" so it is a regression model. So I plan to use desicion tree and bagged tree models."
      ],
      "metadata": {
        "id": "bPBUTYvVqSpl"
      }
    },
    {
      "cell_type": "markdown",
      "source": [
        "##Put your preprocessing and models into pipelines.\n"
      ],
      "metadata": {
        "id": "YMYZLqcNsvVE"
      }
    },
    {
      "cell_type": "markdown",
      "source": [
        "##For each model type, create a default version of each model with default hyperparameters.\n"
      ],
      "metadata": {
        "id": "EunBJO1vsxwE"
      }
    },
    {
      "cell_type": "markdown",
      "source": [
        "###Decision Tree"
      ],
      "metadata": {
        "id": "d8NtsUg4rnOL"
      }
    },
    {
      "cell_type": "code",
      "source": [
        "dt = DecisionTreeRegressor(random_state = 42)\n",
        "dt_pipe = make_pipeline(preprocessor, dt)\n",
        "dt_pipe.fit(X_train, y_train)\n",
        "dt_train_pred = dt_pipe.predict(X_train)\n",
        "dt_test_pred = dt_pipe.predict(X_test)"
      ],
      "metadata": {
        "id": "h7UikEH8sVVf"
      },
      "execution_count": null,
      "outputs": []
    },
    {
      "cell_type": "markdown",
      "source": [
        "###Bagged Tree"
      ],
      "metadata": {
        "id": "2lMUiKhsrqzg"
      }
    },
    {
      "cell_type": "code",
      "source": [
        "bagreg = BaggingRegressor(random_state = 42)\n",
        "bagreg_pipe = make_pipeline(preprocessor, bagreg)\n",
        "bagreg_pipe.fit(X_train, y_train)\n",
        "bt_train_pred = bagreg_pipe.predict(X_train)\n",
        "bt_test_pred = bagreg_pipe.predict(X_test)"
      ],
      "metadata": {
        "id": "pMzMI4-gsbAv"
      },
      "execution_count": null,
      "outputs": []
    },
    {
      "cell_type": "markdown",
      "source": [
        "\n",
        "##Create additional versions of each model type where you tune hyperparameters for each model.\n"
      ],
      "metadata": {
        "id": "NCR7dx03s2i7"
      }
    },
    {
      "cell_type": "markdown",
      "source": [
        "###Tune decision tree"
      ],
      "metadata": {
        "id": "h_rsr0fWxSbE"
      }
    },
    {
      "cell_type": "code",
      "source": [
        "dt.get_depth()"
      ],
      "metadata": {
        "colab": {
          "base_uri": "https://localhost:8080/"
        },
        "id": "0tYZpK6Hgj3F",
        "outputId": "7077525c-3562-43bf-aca8-cfbc45dd3db8"
      },
      "execution_count": null,
      "outputs": [
        {
          "output_type": "execute_result",
          "data": {
            "text/plain": [
              "12"
            ]
          },
          "metadata": {},
          "execution_count": 24
        }
      ]
    },
    {
      "cell_type": "code",
      "source": [
        "# from \"GridSearchCV and Pipelines\" AND CHATGPT\n",
        "params = {'decisiontreeregressor__max_depth': range(1,12), # Add decisiontreeregressor__ prefix to specify the estimator\n",
        "          'decisiontreeregressor__min_samples_leaf': [3,15,20], # Same for min_samples_leaf and min_samples_split\n",
        "          'decisiontreeregressor__min_samples_split': [2, 10, 100]}\n",
        "dt = DecisionTreeRegressor(random_state = 42)\n",
        "dt_pipe = make_pipeline(preprocessor, dt)\n",
        "dt_gs = GridSearchCV(dt_pipe, params, cv=5)\n",
        "dt_gs.fit(X_train, y_train)\n"
      ],
      "metadata": {
        "colab": {
          "base_uri": "https://localhost:8080/",
          "height": 252
        },
        "id": "Q1rXwU4not71",
        "outputId": "4017da51-8009-4b1e-f402-975cf645d902"
      },
      "execution_count": 32,
      "outputs": [
        {
          "output_type": "execute_result",
          "data": {
            "text/plain": [
              "GridSearchCV(cv=5,\n",
              "             estimator=Pipeline(steps=[('columntransformer',\n",
              "                                        ColumnTransformer(transformers=[('pipeline-1',\n",
              "                                                                         Pipeline(steps=[('simpleimputer',\n",
              "                                                                                          SimpleImputer()),\n",
              "                                                                                         ('standardscaler',\n",
              "                                                                                          StandardScaler())]),\n",
              "                                                                         <sklearn.compose._column_transformer.make_column_selector object at 0x7f9f75300820>),\n",
              "                                                                        ('pipeline-2',\n",
              "                                                                         Pipeline(steps=[('simpleimputer',\n",
              "                                                                                          SimpleImputer(strategy...\n",
              "                                                                         <sklearn.compose._column_transformer.make_column_selector object at 0x7f9f75304130>)],\n",
              "                                                          verbose_feature_names_out=False)),\n",
              "                                       ('decisiontreeregressor',\n",
              "                                        DecisionTreeRegressor(random_state=42))]),\n",
              "             param_grid={'decisiontreeregressor__max_depth': range(1, 12),\n",
              "                         'decisiontreeregressor__min_samples_leaf': [3, 15, 20],\n",
              "                         'decisiontreeregressor__min_samples_split': [2, 10,\n",
              "                                                                      100]})"
            ],
            "text/html": [
              "<style>#sk-container-id-2 {color: black;background-color: white;}#sk-container-id-2 pre{padding: 0;}#sk-container-id-2 div.sk-toggleable {background-color: white;}#sk-container-id-2 label.sk-toggleable__label {cursor: pointer;display: block;width: 100%;margin-bottom: 0;padding: 0.3em;box-sizing: border-box;text-align: center;}#sk-container-id-2 label.sk-toggleable__label-arrow:before {content: \"▸\";float: left;margin-right: 0.25em;color: #696969;}#sk-container-id-2 label.sk-toggleable__label-arrow:hover:before {color: black;}#sk-container-id-2 div.sk-estimator:hover label.sk-toggleable__label-arrow:before {color: black;}#sk-container-id-2 div.sk-toggleable__content {max-height: 0;max-width: 0;overflow: hidden;text-align: left;background-color: #f0f8ff;}#sk-container-id-2 div.sk-toggleable__content pre {margin: 0.2em;color: black;border-radius: 0.25em;background-color: #f0f8ff;}#sk-container-id-2 input.sk-toggleable__control:checked~div.sk-toggleable__content {max-height: 200px;max-width: 100%;overflow: auto;}#sk-container-id-2 input.sk-toggleable__control:checked~label.sk-toggleable__label-arrow:before {content: \"▾\";}#sk-container-id-2 div.sk-estimator input.sk-toggleable__control:checked~label.sk-toggleable__label {background-color: #d4ebff;}#sk-container-id-2 div.sk-label input.sk-toggleable__control:checked~label.sk-toggleable__label {background-color: #d4ebff;}#sk-container-id-2 input.sk-hidden--visually {border: 0;clip: rect(1px 1px 1px 1px);clip: rect(1px, 1px, 1px, 1px);height: 1px;margin: -1px;overflow: hidden;padding: 0;position: absolute;width: 1px;}#sk-container-id-2 div.sk-estimator {font-family: monospace;background-color: #f0f8ff;border: 1px dotted black;border-radius: 0.25em;box-sizing: border-box;margin-bottom: 0.5em;}#sk-container-id-2 div.sk-estimator:hover {background-color: #d4ebff;}#sk-container-id-2 div.sk-parallel-item::after {content: \"\";width: 100%;border-bottom: 1px solid gray;flex-grow: 1;}#sk-container-id-2 div.sk-label:hover label.sk-toggleable__label {background-color: #d4ebff;}#sk-container-id-2 div.sk-serial::before {content: \"\";position: absolute;border-left: 1px solid gray;box-sizing: border-box;top: 0;bottom: 0;left: 50%;z-index: 0;}#sk-container-id-2 div.sk-serial {display: flex;flex-direction: column;align-items: center;background-color: white;padding-right: 0.2em;padding-left: 0.2em;position: relative;}#sk-container-id-2 div.sk-item {position: relative;z-index: 1;}#sk-container-id-2 div.sk-parallel {display: flex;align-items: stretch;justify-content: center;background-color: white;position: relative;}#sk-container-id-2 div.sk-item::before, #sk-container-id-2 div.sk-parallel-item::before {content: \"\";position: absolute;border-left: 1px solid gray;box-sizing: border-box;top: 0;bottom: 0;left: 50%;z-index: -1;}#sk-container-id-2 div.sk-parallel-item {display: flex;flex-direction: column;z-index: 1;position: relative;background-color: white;}#sk-container-id-2 div.sk-parallel-item:first-child::after {align-self: flex-end;width: 50%;}#sk-container-id-2 div.sk-parallel-item:last-child::after {align-self: flex-start;width: 50%;}#sk-container-id-2 div.sk-parallel-item:only-child::after {width: 0;}#sk-container-id-2 div.sk-dashed-wrapped {border: 1px dashed gray;margin: 0 0.4em 0.5em 0.4em;box-sizing: border-box;padding-bottom: 0.4em;background-color: white;}#sk-container-id-2 div.sk-label label {font-family: monospace;font-weight: bold;display: inline-block;line-height: 1.2em;}#sk-container-id-2 div.sk-label-container {text-align: center;}#sk-container-id-2 div.sk-container {/* jupyter's `normalize.less` sets `[hidden] { display: none; }` but bootstrap.min.css set `[hidden] { display: none !important; }` so we also need the `!important` here to be able to override the default hidden behavior on the sphinx rendered scikit-learn.org. See: https://github.com/scikit-learn/scikit-learn/issues/21755 */display: inline-block !important;position: relative;}#sk-container-id-2 div.sk-text-repr-fallback {display: none;}</style><div id=\"sk-container-id-2\" class=\"sk-top-container\"><div class=\"sk-text-repr-fallback\"><pre>GridSearchCV(cv=5,\n",
              "             estimator=Pipeline(steps=[(&#x27;columntransformer&#x27;,\n",
              "                                        ColumnTransformer(transformers=[(&#x27;pipeline-1&#x27;,\n",
              "                                                                         Pipeline(steps=[(&#x27;simpleimputer&#x27;,\n",
              "                                                                                          SimpleImputer()),\n",
              "                                                                                         (&#x27;standardscaler&#x27;,\n",
              "                                                                                          StandardScaler())]),\n",
              "                                                                         &lt;sklearn.compose._column_transformer.make_column_selector object at 0x7f9f75300820&gt;),\n",
              "                                                                        (&#x27;pipeline-2&#x27;,\n",
              "                                                                         Pipeline(steps=[(&#x27;simpleimputer&#x27;,\n",
              "                                                                                          SimpleImputer(strategy...\n",
              "                                                                         &lt;sklearn.compose._column_transformer.make_column_selector object at 0x7f9f75304130&gt;)],\n",
              "                                                          verbose_feature_names_out=False)),\n",
              "                                       (&#x27;decisiontreeregressor&#x27;,\n",
              "                                        DecisionTreeRegressor(random_state=42))]),\n",
              "             param_grid={&#x27;decisiontreeregressor__max_depth&#x27;: range(1, 12),\n",
              "                         &#x27;decisiontreeregressor__min_samples_leaf&#x27;: [3, 15, 20],\n",
              "                         &#x27;decisiontreeregressor__min_samples_split&#x27;: [2, 10,\n",
              "                                                                      100]})</pre><b>In a Jupyter environment, please rerun this cell to show the HTML representation or trust the notebook. <br />On GitHub, the HTML representation is unable to render, please try loading this page with nbviewer.org.</b></div><div class=\"sk-container\" hidden><div class=\"sk-item sk-dashed-wrapped\"><div class=\"sk-label-container\"><div class=\"sk-label sk-toggleable\"><input class=\"sk-toggleable__control sk-hidden--visually\" id=\"sk-estimator-id-8\" type=\"checkbox\" ><label for=\"sk-estimator-id-8\" class=\"sk-toggleable__label sk-toggleable__label-arrow\">GridSearchCV</label><div class=\"sk-toggleable__content\"><pre>GridSearchCV(cv=5,\n",
              "             estimator=Pipeline(steps=[(&#x27;columntransformer&#x27;,\n",
              "                                        ColumnTransformer(transformers=[(&#x27;pipeline-1&#x27;,\n",
              "                                                                         Pipeline(steps=[(&#x27;simpleimputer&#x27;,\n",
              "                                                                                          SimpleImputer()),\n",
              "                                                                                         (&#x27;standardscaler&#x27;,\n",
              "                                                                                          StandardScaler())]),\n",
              "                                                                         &lt;sklearn.compose._column_transformer.make_column_selector object at 0x7f9f75300820&gt;),\n",
              "                                                                        (&#x27;pipeline-2&#x27;,\n",
              "                                                                         Pipeline(steps=[(&#x27;simpleimputer&#x27;,\n",
              "                                                                                          SimpleImputer(strategy...\n",
              "                                                                         &lt;sklearn.compose._column_transformer.make_column_selector object at 0x7f9f75304130&gt;)],\n",
              "                                                          verbose_feature_names_out=False)),\n",
              "                                       (&#x27;decisiontreeregressor&#x27;,\n",
              "                                        DecisionTreeRegressor(random_state=42))]),\n",
              "             param_grid={&#x27;decisiontreeregressor__max_depth&#x27;: range(1, 12),\n",
              "                         &#x27;decisiontreeregressor__min_samples_leaf&#x27;: [3, 15, 20],\n",
              "                         &#x27;decisiontreeregressor__min_samples_split&#x27;: [2, 10,\n",
              "                                                                      100]})</pre></div></div></div><div class=\"sk-parallel\"><div class=\"sk-parallel-item\"><div class=\"sk-item\"><div class=\"sk-label-container\"><div class=\"sk-label sk-toggleable\"><input class=\"sk-toggleable__control sk-hidden--visually\" id=\"sk-estimator-id-9\" type=\"checkbox\" ><label for=\"sk-estimator-id-9\" class=\"sk-toggleable__label sk-toggleable__label-arrow\">estimator: Pipeline</label><div class=\"sk-toggleable__content\"><pre>Pipeline(steps=[(&#x27;columntransformer&#x27;,\n",
              "                 ColumnTransformer(transformers=[(&#x27;pipeline-1&#x27;,\n",
              "                                                  Pipeline(steps=[(&#x27;simpleimputer&#x27;,\n",
              "                                                                   SimpleImputer()),\n",
              "                                                                  (&#x27;standardscaler&#x27;,\n",
              "                                                                   StandardScaler())]),\n",
              "                                                  &lt;sklearn.compose._column_transformer.make_column_selector object at 0x7f9f75300820&gt;),\n",
              "                                                 (&#x27;pipeline-2&#x27;,\n",
              "                                                  Pipeline(steps=[(&#x27;simpleimputer&#x27;,\n",
              "                                                                   SimpleImputer(strategy=&#x27;most_frequent&#x27;)),\n",
              "                                                                  (&#x27;onehotencoder&#x27;,\n",
              "                                                                   OneHotEncoder(handle_unknown=&#x27;ignore&#x27;,\n",
              "                                                                                 sparse_output=False))]),\n",
              "                                                  &lt;sklearn.compose._column_transformer.make_column_selector object at 0x7f9f75304130&gt;)],\n",
              "                                   verbose_feature_names_out=False)),\n",
              "                (&#x27;decisiontreeregressor&#x27;,\n",
              "                 DecisionTreeRegressor(random_state=42))])</pre></div></div></div><div class=\"sk-serial\"><div class=\"sk-item\"><div class=\"sk-serial\"><div class=\"sk-item sk-dashed-wrapped\"><div class=\"sk-label-container\"><div class=\"sk-label sk-toggleable\"><input class=\"sk-toggleable__control sk-hidden--visually\" id=\"sk-estimator-id-10\" type=\"checkbox\" ><label for=\"sk-estimator-id-10\" class=\"sk-toggleable__label sk-toggleable__label-arrow\">columntransformer: ColumnTransformer</label><div class=\"sk-toggleable__content\"><pre>ColumnTransformer(transformers=[(&#x27;pipeline-1&#x27;,\n",
              "                                 Pipeline(steps=[(&#x27;simpleimputer&#x27;,\n",
              "                                                  SimpleImputer()),\n",
              "                                                 (&#x27;standardscaler&#x27;,\n",
              "                                                  StandardScaler())]),\n",
              "                                 &lt;sklearn.compose._column_transformer.make_column_selector object at 0x7f9f75300820&gt;),\n",
              "                                (&#x27;pipeline-2&#x27;,\n",
              "                                 Pipeline(steps=[(&#x27;simpleimputer&#x27;,\n",
              "                                                  SimpleImputer(strategy=&#x27;most_frequent&#x27;)),\n",
              "                                                 (&#x27;onehotencoder&#x27;,\n",
              "                                                  OneHotEncoder(handle_unknown=&#x27;ignore&#x27;,\n",
              "                                                                sparse_output=False))]),\n",
              "                                 &lt;sklearn.compose._column_transformer.make_column_selector object at 0x7f9f75304130&gt;)],\n",
              "                  verbose_feature_names_out=False)</pre></div></div></div><div class=\"sk-parallel\"><div class=\"sk-parallel-item\"><div class=\"sk-item\"><div class=\"sk-label-container\"><div class=\"sk-label sk-toggleable\"><input class=\"sk-toggleable__control sk-hidden--visually\" id=\"sk-estimator-id-11\" type=\"checkbox\" ><label for=\"sk-estimator-id-11\" class=\"sk-toggleable__label sk-toggleable__label-arrow\">pipeline-1</label><div class=\"sk-toggleable__content\"><pre>&lt;sklearn.compose._column_transformer.make_column_selector object at 0x7f9f75300820&gt;</pre></div></div></div><div class=\"sk-serial\"><div class=\"sk-item\"><div class=\"sk-serial\"><div class=\"sk-item\"><div class=\"sk-estimator sk-toggleable\"><input class=\"sk-toggleable__control sk-hidden--visually\" id=\"sk-estimator-id-12\" type=\"checkbox\" ><label for=\"sk-estimator-id-12\" class=\"sk-toggleable__label sk-toggleable__label-arrow\">SimpleImputer</label><div class=\"sk-toggleable__content\"><pre>SimpleImputer()</pre></div></div></div><div class=\"sk-item\"><div class=\"sk-estimator sk-toggleable\"><input class=\"sk-toggleable__control sk-hidden--visually\" id=\"sk-estimator-id-13\" type=\"checkbox\" ><label for=\"sk-estimator-id-13\" class=\"sk-toggleable__label sk-toggleable__label-arrow\">StandardScaler</label><div class=\"sk-toggleable__content\"><pre>StandardScaler()</pre></div></div></div></div></div></div></div></div><div class=\"sk-parallel-item\"><div class=\"sk-item\"><div class=\"sk-label-container\"><div class=\"sk-label sk-toggleable\"><input class=\"sk-toggleable__control sk-hidden--visually\" id=\"sk-estimator-id-14\" type=\"checkbox\" ><label for=\"sk-estimator-id-14\" class=\"sk-toggleable__label sk-toggleable__label-arrow\">pipeline-2</label><div class=\"sk-toggleable__content\"><pre>&lt;sklearn.compose._column_transformer.make_column_selector object at 0x7f9f75304130&gt;</pre></div></div></div><div class=\"sk-serial\"><div class=\"sk-item\"><div class=\"sk-serial\"><div class=\"sk-item\"><div class=\"sk-estimator sk-toggleable\"><input class=\"sk-toggleable__control sk-hidden--visually\" id=\"sk-estimator-id-15\" type=\"checkbox\" ><label for=\"sk-estimator-id-15\" class=\"sk-toggleable__label sk-toggleable__label-arrow\">SimpleImputer</label><div class=\"sk-toggleable__content\"><pre>SimpleImputer(strategy=&#x27;most_frequent&#x27;)</pre></div></div></div><div class=\"sk-item\"><div class=\"sk-estimator sk-toggleable\"><input class=\"sk-toggleable__control sk-hidden--visually\" id=\"sk-estimator-id-16\" type=\"checkbox\" ><label for=\"sk-estimator-id-16\" class=\"sk-toggleable__label sk-toggleable__label-arrow\">OneHotEncoder</label><div class=\"sk-toggleable__content\"><pre>OneHotEncoder(handle_unknown=&#x27;ignore&#x27;, sparse_output=False)</pre></div></div></div></div></div></div></div></div></div></div><div class=\"sk-item\"><div class=\"sk-estimator sk-toggleable\"><input class=\"sk-toggleable__control sk-hidden--visually\" id=\"sk-estimator-id-17\" type=\"checkbox\" ><label for=\"sk-estimator-id-17\" class=\"sk-toggleable__label sk-toggleable__label-arrow\">DecisionTreeRegressor</label><div class=\"sk-toggleable__content\"><pre>DecisionTreeRegressor(random_state=42)</pre></div></div></div></div></div></div></div></div></div></div></div></div>"
            ]
          },
          "metadata": {},
          "execution_count": 32
        }
      ]
    },
    {
      "cell_type": "code",
      "source": [
        "dt_gs.best_estimator_\n",
        "tuned_dt_best_model = dt_gs.best_estimator_\n",
        "tuned_dt_best_model.fit(X_train, y_train)\n",
        "tuned_dt_train_pred = tuned_dt_best_model.predict(X_train)\n",
        "tuned_dt_test_pred = tuned_dt_best_model.predict(X_test)"
      ],
      "metadata": {
        "id": "wfL9ZMyCpH81"
      },
      "execution_count": 35,
      "outputs": []
    },
    {
      "cell_type": "markdown",
      "source": [
        "###Tune bagging tree"
      ],
      "metadata": {
        "id": "nxA_QYSrxTlU"
      }
    },
    {
      "cell_type": "code",
      "source": [
        "params = {\"baggingregressor__n_estimators\" : [10, 20, 30, 40, 50, 60, 70, 80, 90, 100]}\n",
        "bagreg = BaggingRegressor(random_state = 42)\n",
        "bagreg_pipe = make_pipeline(preprocessor, bagreg)\n",
        "bagreg_gs = GridSearchCV(bagreg_pipe, params, cv=5)\n",
        "bagreg_gs.fit(X_train, y_train)"
      ],
      "metadata": {
        "id": "gLJPFrfijqeA",
        "colab": {
          "base_uri": "https://localhost:8080/",
          "height": 252
        },
        "outputId": "3d547520-a5c8-44cd-c452-1ff9b59f38ef"
      },
      "execution_count": 39,
      "outputs": [
        {
          "output_type": "execute_result",
          "data": {
            "text/plain": [
              "GridSearchCV(cv=5,\n",
              "             estimator=Pipeline(steps=[('columntransformer',\n",
              "                                        ColumnTransformer(transformers=[('pipeline-1',\n",
              "                                                                         Pipeline(steps=[('simpleimputer',\n",
              "                                                                                          SimpleImputer()),\n",
              "                                                                                         ('standardscaler',\n",
              "                                                                                          StandardScaler())]),\n",
              "                                                                         <sklearn.compose._column_transformer.make_column_selector object at 0x7f9f75300820>),\n",
              "                                                                        ('pipeline-2',\n",
              "                                                                         Pipeline(steps=[('simpleimputer',\n",
              "                                                                                          SimpleImputer(strategy='most_frequent')),\n",
              "                                                                                         ('onehotencoder',\n",
              "                                                                                          OneHotEncoder(handle_unknown='ignore',\n",
              "                                                                                                        sparse_output=False))]),\n",
              "                                                                         <sklearn.compose._column_transformer.make_column_selector object at 0x7f9f75304130>)],\n",
              "                                                          verbose_feature_names_out=False)),\n",
              "                                       ('baggingregressor',\n",
              "                                        BaggingRegressor(random_state=42))]),\n",
              "             param_grid={'baggingregressor__n_estimators': [10, 20, 30, 40, 50,\n",
              "                                                            60, 70, 80, 90,\n",
              "                                                            100]})"
            ],
            "text/html": [
              "<style>#sk-container-id-5 {color: black;background-color: white;}#sk-container-id-5 pre{padding: 0;}#sk-container-id-5 div.sk-toggleable {background-color: white;}#sk-container-id-5 label.sk-toggleable__label {cursor: pointer;display: block;width: 100%;margin-bottom: 0;padding: 0.3em;box-sizing: border-box;text-align: center;}#sk-container-id-5 label.sk-toggleable__label-arrow:before {content: \"▸\";float: left;margin-right: 0.25em;color: #696969;}#sk-container-id-5 label.sk-toggleable__label-arrow:hover:before {color: black;}#sk-container-id-5 div.sk-estimator:hover label.sk-toggleable__label-arrow:before {color: black;}#sk-container-id-5 div.sk-toggleable__content {max-height: 0;max-width: 0;overflow: hidden;text-align: left;background-color: #f0f8ff;}#sk-container-id-5 div.sk-toggleable__content pre {margin: 0.2em;color: black;border-radius: 0.25em;background-color: #f0f8ff;}#sk-container-id-5 input.sk-toggleable__control:checked~div.sk-toggleable__content {max-height: 200px;max-width: 100%;overflow: auto;}#sk-container-id-5 input.sk-toggleable__control:checked~label.sk-toggleable__label-arrow:before {content: \"▾\";}#sk-container-id-5 div.sk-estimator input.sk-toggleable__control:checked~label.sk-toggleable__label {background-color: #d4ebff;}#sk-container-id-5 div.sk-label input.sk-toggleable__control:checked~label.sk-toggleable__label {background-color: #d4ebff;}#sk-container-id-5 input.sk-hidden--visually {border: 0;clip: rect(1px 1px 1px 1px);clip: rect(1px, 1px, 1px, 1px);height: 1px;margin: -1px;overflow: hidden;padding: 0;position: absolute;width: 1px;}#sk-container-id-5 div.sk-estimator {font-family: monospace;background-color: #f0f8ff;border: 1px dotted black;border-radius: 0.25em;box-sizing: border-box;margin-bottom: 0.5em;}#sk-container-id-5 div.sk-estimator:hover {background-color: #d4ebff;}#sk-container-id-5 div.sk-parallel-item::after {content: \"\";width: 100%;border-bottom: 1px solid gray;flex-grow: 1;}#sk-container-id-5 div.sk-label:hover label.sk-toggleable__label {background-color: #d4ebff;}#sk-container-id-5 div.sk-serial::before {content: \"\";position: absolute;border-left: 1px solid gray;box-sizing: border-box;top: 0;bottom: 0;left: 50%;z-index: 0;}#sk-container-id-5 div.sk-serial {display: flex;flex-direction: column;align-items: center;background-color: white;padding-right: 0.2em;padding-left: 0.2em;position: relative;}#sk-container-id-5 div.sk-item {position: relative;z-index: 1;}#sk-container-id-5 div.sk-parallel {display: flex;align-items: stretch;justify-content: center;background-color: white;position: relative;}#sk-container-id-5 div.sk-item::before, #sk-container-id-5 div.sk-parallel-item::before {content: \"\";position: absolute;border-left: 1px solid gray;box-sizing: border-box;top: 0;bottom: 0;left: 50%;z-index: -1;}#sk-container-id-5 div.sk-parallel-item {display: flex;flex-direction: column;z-index: 1;position: relative;background-color: white;}#sk-container-id-5 div.sk-parallel-item:first-child::after {align-self: flex-end;width: 50%;}#sk-container-id-5 div.sk-parallel-item:last-child::after {align-self: flex-start;width: 50%;}#sk-container-id-5 div.sk-parallel-item:only-child::after {width: 0;}#sk-container-id-5 div.sk-dashed-wrapped {border: 1px dashed gray;margin: 0 0.4em 0.5em 0.4em;box-sizing: border-box;padding-bottom: 0.4em;background-color: white;}#sk-container-id-5 div.sk-label label {font-family: monospace;font-weight: bold;display: inline-block;line-height: 1.2em;}#sk-container-id-5 div.sk-label-container {text-align: center;}#sk-container-id-5 div.sk-container {/* jupyter's `normalize.less` sets `[hidden] { display: none; }` but bootstrap.min.css set `[hidden] { display: none !important; }` so we also need the `!important` here to be able to override the default hidden behavior on the sphinx rendered scikit-learn.org. See: https://github.com/scikit-learn/scikit-learn/issues/21755 */display: inline-block !important;position: relative;}#sk-container-id-5 div.sk-text-repr-fallback {display: none;}</style><div id=\"sk-container-id-5\" class=\"sk-top-container\"><div class=\"sk-text-repr-fallback\"><pre>GridSearchCV(cv=5,\n",
              "             estimator=Pipeline(steps=[(&#x27;columntransformer&#x27;,\n",
              "                                        ColumnTransformer(transformers=[(&#x27;pipeline-1&#x27;,\n",
              "                                                                         Pipeline(steps=[(&#x27;simpleimputer&#x27;,\n",
              "                                                                                          SimpleImputer()),\n",
              "                                                                                         (&#x27;standardscaler&#x27;,\n",
              "                                                                                          StandardScaler())]),\n",
              "                                                                         &lt;sklearn.compose._column_transformer.make_column_selector object at 0x7f9f75300820&gt;),\n",
              "                                                                        (&#x27;pipeline-2&#x27;,\n",
              "                                                                         Pipeline(steps=[(&#x27;simpleimputer&#x27;,\n",
              "                                                                                          SimpleImputer(strategy=&#x27;most_frequent&#x27;)),\n",
              "                                                                                         (&#x27;onehotencoder&#x27;,\n",
              "                                                                                          OneHotEncoder(handle_unknown=&#x27;ignore&#x27;,\n",
              "                                                                                                        sparse_output=False))]),\n",
              "                                                                         &lt;sklearn.compose._column_transformer.make_column_selector object at 0x7f9f75304130&gt;)],\n",
              "                                                          verbose_feature_names_out=False)),\n",
              "                                       (&#x27;baggingregressor&#x27;,\n",
              "                                        BaggingRegressor(random_state=42))]),\n",
              "             param_grid={&#x27;baggingregressor__n_estimators&#x27;: [10, 20, 30, 40, 50,\n",
              "                                                            60, 70, 80, 90,\n",
              "                                                            100]})</pre><b>In a Jupyter environment, please rerun this cell to show the HTML representation or trust the notebook. <br />On GitHub, the HTML representation is unable to render, please try loading this page with nbviewer.org.</b></div><div class=\"sk-container\" hidden><div class=\"sk-item sk-dashed-wrapped\"><div class=\"sk-label-container\"><div class=\"sk-label sk-toggleable\"><input class=\"sk-toggleable__control sk-hidden--visually\" id=\"sk-estimator-id-36\" type=\"checkbox\" ><label for=\"sk-estimator-id-36\" class=\"sk-toggleable__label sk-toggleable__label-arrow\">GridSearchCV</label><div class=\"sk-toggleable__content\"><pre>GridSearchCV(cv=5,\n",
              "             estimator=Pipeline(steps=[(&#x27;columntransformer&#x27;,\n",
              "                                        ColumnTransformer(transformers=[(&#x27;pipeline-1&#x27;,\n",
              "                                                                         Pipeline(steps=[(&#x27;simpleimputer&#x27;,\n",
              "                                                                                          SimpleImputer()),\n",
              "                                                                                         (&#x27;standardscaler&#x27;,\n",
              "                                                                                          StandardScaler())]),\n",
              "                                                                         &lt;sklearn.compose._column_transformer.make_column_selector object at 0x7f9f75300820&gt;),\n",
              "                                                                        (&#x27;pipeline-2&#x27;,\n",
              "                                                                         Pipeline(steps=[(&#x27;simpleimputer&#x27;,\n",
              "                                                                                          SimpleImputer(strategy=&#x27;most_frequent&#x27;)),\n",
              "                                                                                         (&#x27;onehotencoder&#x27;,\n",
              "                                                                                          OneHotEncoder(handle_unknown=&#x27;ignore&#x27;,\n",
              "                                                                                                        sparse_output=False))]),\n",
              "                                                                         &lt;sklearn.compose._column_transformer.make_column_selector object at 0x7f9f75304130&gt;)],\n",
              "                                                          verbose_feature_names_out=False)),\n",
              "                                       (&#x27;baggingregressor&#x27;,\n",
              "                                        BaggingRegressor(random_state=42))]),\n",
              "             param_grid={&#x27;baggingregressor__n_estimators&#x27;: [10, 20, 30, 40, 50,\n",
              "                                                            60, 70, 80, 90,\n",
              "                                                            100]})</pre></div></div></div><div class=\"sk-parallel\"><div class=\"sk-parallel-item\"><div class=\"sk-item\"><div class=\"sk-label-container\"><div class=\"sk-label sk-toggleable\"><input class=\"sk-toggleable__control sk-hidden--visually\" id=\"sk-estimator-id-37\" type=\"checkbox\" ><label for=\"sk-estimator-id-37\" class=\"sk-toggleable__label sk-toggleable__label-arrow\">estimator: Pipeline</label><div class=\"sk-toggleable__content\"><pre>Pipeline(steps=[(&#x27;columntransformer&#x27;,\n",
              "                 ColumnTransformer(transformers=[(&#x27;pipeline-1&#x27;,\n",
              "                                                  Pipeline(steps=[(&#x27;simpleimputer&#x27;,\n",
              "                                                                   SimpleImputer()),\n",
              "                                                                  (&#x27;standardscaler&#x27;,\n",
              "                                                                   StandardScaler())]),\n",
              "                                                  &lt;sklearn.compose._column_transformer.make_column_selector object at 0x7f9f75300820&gt;),\n",
              "                                                 (&#x27;pipeline-2&#x27;,\n",
              "                                                  Pipeline(steps=[(&#x27;simpleimputer&#x27;,\n",
              "                                                                   SimpleImputer(strategy=&#x27;most_frequent&#x27;)),\n",
              "                                                                  (&#x27;onehotencoder&#x27;,\n",
              "                                                                   OneHotEncoder(handle_unknown=&#x27;ignore&#x27;,\n",
              "                                                                                 sparse_output=False))]),\n",
              "                                                  &lt;sklearn.compose._column_transformer.make_column_selector object at 0x7f9f75304130&gt;)],\n",
              "                                   verbose_feature_names_out=False)),\n",
              "                (&#x27;baggingregressor&#x27;, BaggingRegressor(random_state=42))])</pre></div></div></div><div class=\"sk-serial\"><div class=\"sk-item\"><div class=\"sk-serial\"><div class=\"sk-item sk-dashed-wrapped\"><div class=\"sk-label-container\"><div class=\"sk-label sk-toggleable\"><input class=\"sk-toggleable__control sk-hidden--visually\" id=\"sk-estimator-id-38\" type=\"checkbox\" ><label for=\"sk-estimator-id-38\" class=\"sk-toggleable__label sk-toggleable__label-arrow\">columntransformer: ColumnTransformer</label><div class=\"sk-toggleable__content\"><pre>ColumnTransformer(transformers=[(&#x27;pipeline-1&#x27;,\n",
              "                                 Pipeline(steps=[(&#x27;simpleimputer&#x27;,\n",
              "                                                  SimpleImputer()),\n",
              "                                                 (&#x27;standardscaler&#x27;,\n",
              "                                                  StandardScaler())]),\n",
              "                                 &lt;sklearn.compose._column_transformer.make_column_selector object at 0x7f9f75300820&gt;),\n",
              "                                (&#x27;pipeline-2&#x27;,\n",
              "                                 Pipeline(steps=[(&#x27;simpleimputer&#x27;,\n",
              "                                                  SimpleImputer(strategy=&#x27;most_frequent&#x27;)),\n",
              "                                                 (&#x27;onehotencoder&#x27;,\n",
              "                                                  OneHotEncoder(handle_unknown=&#x27;ignore&#x27;,\n",
              "                                                                sparse_output=False))]),\n",
              "                                 &lt;sklearn.compose._column_transformer.make_column_selector object at 0x7f9f75304130&gt;)],\n",
              "                  verbose_feature_names_out=False)</pre></div></div></div><div class=\"sk-parallel\"><div class=\"sk-parallel-item\"><div class=\"sk-item\"><div class=\"sk-label-container\"><div class=\"sk-label sk-toggleable\"><input class=\"sk-toggleable__control sk-hidden--visually\" id=\"sk-estimator-id-39\" type=\"checkbox\" ><label for=\"sk-estimator-id-39\" class=\"sk-toggleable__label sk-toggleable__label-arrow\">pipeline-1</label><div class=\"sk-toggleable__content\"><pre>&lt;sklearn.compose._column_transformer.make_column_selector object at 0x7f9f75300820&gt;</pre></div></div></div><div class=\"sk-serial\"><div class=\"sk-item\"><div class=\"sk-serial\"><div class=\"sk-item\"><div class=\"sk-estimator sk-toggleable\"><input class=\"sk-toggleable__control sk-hidden--visually\" id=\"sk-estimator-id-40\" type=\"checkbox\" ><label for=\"sk-estimator-id-40\" class=\"sk-toggleable__label sk-toggleable__label-arrow\">SimpleImputer</label><div class=\"sk-toggleable__content\"><pre>SimpleImputer()</pre></div></div></div><div class=\"sk-item\"><div class=\"sk-estimator sk-toggleable\"><input class=\"sk-toggleable__control sk-hidden--visually\" id=\"sk-estimator-id-41\" type=\"checkbox\" ><label for=\"sk-estimator-id-41\" class=\"sk-toggleable__label sk-toggleable__label-arrow\">StandardScaler</label><div class=\"sk-toggleable__content\"><pre>StandardScaler()</pre></div></div></div></div></div></div></div></div><div class=\"sk-parallel-item\"><div class=\"sk-item\"><div class=\"sk-label-container\"><div class=\"sk-label sk-toggleable\"><input class=\"sk-toggleable__control sk-hidden--visually\" id=\"sk-estimator-id-42\" type=\"checkbox\" ><label for=\"sk-estimator-id-42\" class=\"sk-toggleable__label sk-toggleable__label-arrow\">pipeline-2</label><div class=\"sk-toggleable__content\"><pre>&lt;sklearn.compose._column_transformer.make_column_selector object at 0x7f9f75304130&gt;</pre></div></div></div><div class=\"sk-serial\"><div class=\"sk-item\"><div class=\"sk-serial\"><div class=\"sk-item\"><div class=\"sk-estimator sk-toggleable\"><input class=\"sk-toggleable__control sk-hidden--visually\" id=\"sk-estimator-id-43\" type=\"checkbox\" ><label for=\"sk-estimator-id-43\" class=\"sk-toggleable__label sk-toggleable__label-arrow\">SimpleImputer</label><div class=\"sk-toggleable__content\"><pre>SimpleImputer(strategy=&#x27;most_frequent&#x27;)</pre></div></div></div><div class=\"sk-item\"><div class=\"sk-estimator sk-toggleable\"><input class=\"sk-toggleable__control sk-hidden--visually\" id=\"sk-estimator-id-44\" type=\"checkbox\" ><label for=\"sk-estimator-id-44\" class=\"sk-toggleable__label sk-toggleable__label-arrow\">OneHotEncoder</label><div class=\"sk-toggleable__content\"><pre>OneHotEncoder(handle_unknown=&#x27;ignore&#x27;, sparse_output=False)</pre></div></div></div></div></div></div></div></div></div></div><div class=\"sk-item\"><div class=\"sk-estimator sk-toggleable\"><input class=\"sk-toggleable__control sk-hidden--visually\" id=\"sk-estimator-id-45\" type=\"checkbox\" ><label for=\"sk-estimator-id-45\" class=\"sk-toggleable__label sk-toggleable__label-arrow\">BaggingRegressor</label><div class=\"sk-toggleable__content\"><pre>BaggingRegressor(random_state=42)</pre></div></div></div></div></div></div></div></div></div></div></div></div>"
            ]
          },
          "metadata": {},
          "execution_count": 39
        }
      ]
    },
    {
      "cell_type": "code",
      "source": [
        "bagreg_gs.best_estimator_\n",
        "tuned_bt_best_model = bagreg_gs.best_estimator_\n",
        "tuned_bt_best_model.fit(X_train, y_train)\n",
        "tuned_bt_train_pred = tuned_bt_best_model.predict(X_train)\n",
        "tuned_bt_test_pred = tuned_bt_best_model.predict(X_test)"
      ],
      "metadata": {
        "id": "p03PsZCsrOYT"
      },
      "execution_count": 42,
      "outputs": []
    },
    {
      "cell_type": "markdown",
      "source": [
        "##Use appropriate metrics to evaluate each model."
      ],
      "metadata": {
        "id": "SrLPD8o-s31L"
      }
    },
    {
      "cell_type": "code",
      "source": [
        "## Evaluation function\n",
        "def evaluate_model(true,pred):\n",
        "    mae = mean_absolute_error(true, pred)\n",
        "    mse = mean_squared_error(true, pred)\n",
        "    rmse = np.sqrt(mse)\n",
        "    r2 = r2_score(true, pred)\n",
        "    print(f' MAE: {mae}, \\n MSE: {mse}, \\n RMSE: {rmse:}, \\n R2: {r2}')"
      ],
      "metadata": {
        "id": "hJB2afXfsPrh"
      },
      "execution_count": 40,
      "outputs": []
    },
    {
      "cell_type": "code",
      "source": [
        "# Evaluate Training Data on Different models\n",
        "print('Decision Tree Train Evaluation')\n",
        "evaluate_model(y_train, dt_train_pred)\n",
        "print('\\nTuned Decision Tree Train Evaluation')\n",
        "evaluate_model(y_train, tuned_dt_train_pred)\n",
        "print('\\nBagging Tree Train Evaluation')\n",
        "evaluate_model(y_train, bt_train_pred)\n",
        "print('\\nTuned Bagging Tree Train Evaluation')\n",
        "evaluate_model(y_train, tuned_bt_train_pred)\n"
      ],
      "metadata": {
        "id": "rx-Y2HMI636K",
        "colab": {
          "base_uri": "https://localhost:8080/"
        },
        "outputId": "cbdafdf0-8ec6-4582-9628-ebe4a95f31df"
      },
      "execution_count": 43,
      "outputs": [
        {
          "output_type": "stream",
          "name": "stdout",
          "text": [
            "Decision Tree Train Evaluation\n",
            " MAE: 0.423728813559322, \n",
            " MSE: 10.59322033898305, \n",
            " RMSE: 3.2547227745205967, \n",
            " R2: 0.9999154081959117\n",
            "\n",
            "Tuned Decision Tree Train Evaluation\n",
            " MAE: 24.765564971751413, \n",
            " MSE: 1421.72820527307, \n",
            " RMSE: 37.70581129312921, \n",
            " R2: 0.9886468373206037\n",
            "\n",
            "Bagging Tree Train Evaluation\n",
            " MAE: 17.232627118644064, \n",
            " MSE: 702.1540855932196, \n",
            " RMSE: 26.498190232414355, \n",
            " R2: 0.9943929722079253\n",
            "\n",
            "Tuned Bagging Tree Train Evaluation\n",
            " MAE: 17.232627118644064, \n",
            " MSE: 702.1540855932196, \n",
            " RMSE: 26.498190232414355, \n",
            " R2: 0.9943929722079253\n"
          ]
        }
      ]
    },
    {
      "cell_type": "code",
      "source": [
        "# Evaluate Testing Data on Different models\n",
        "print('Decision Tree Test Evaluation')\n",
        "evaluate_model(y_test, dt_test_pred)\n",
        "print('\\nTuned Decision Tree Test Evaluation')\n",
        "evaluate_model(y_test, tuned_dt_test_pred)\n",
        "print('\\nBagging Tree Test Evaluation')\n",
        "evaluate_model(y_test, bt_test_pred)\n",
        "print('\\nTuned Bagging Tree Test Evaluation')\n",
        "evaluate_model(y_test, tuned_bt_test_pred)"
      ],
      "metadata": {
        "id": "udqDBSTHNbcw",
        "colab": {
          "base_uri": "https://localhost:8080/"
        },
        "outputId": "2ce4ac26-0f21-4954-b42e-3861fd67bccb"
      },
      "execution_count": 44,
      "outputs": [
        {
          "output_type": "stream",
          "name": "stdout",
          "text": [
            "Decision Tree Test Evaluation\n",
            " MAE: 60.3875, \n",
            " MSE: 10133.851749999998, \n",
            " RMSE: 100.66703407769594, \n",
            " R2: 0.9227677948979912\n",
            "\n",
            "Tuned Decision Tree Test Evaluation\n",
            " MAE: 62.227125, \n",
            " MSE: 9634.782098371914, \n",
            " RMSE: 98.15692588081554, \n",
            " R2: 0.9265713091634065\n",
            "\n",
            "Bagging Tree Test Evaluation\n",
            " MAE: 49.116916666666675, \n",
            " MSE: 6051.247891944447, \n",
            " RMSE: 77.78976727015223, \n",
            " R2: 0.9538821733489685\n",
            "\n",
            "Tuned Bagging Tree Test Evaluation\n",
            " MAE: 49.116916666666675, \n",
            " MSE: 6051.247891944447, \n",
            " RMSE: 77.78976727015223, \n",
            " R2: 0.9538821733489685\n"
          ]
        }
      ]
    },
    {
      "cell_type": "markdown",
      "source": [
        "#Choose one final model:\n",
        "Write a justification of your choice of the final model."
      ],
      "metadata": {
        "id": "oGrOLygdpxMm"
      }
    },
    {
      "cell_type": "markdown",
      "source": [
        "1. model selection: \n",
        "- Bagging tree default and tuned have similiar testing results with RMSE=49.11,  and "
      ],
      "metadata": {
        "id": "GC5ZJXQjeBUv"
      }
    }
  ]
}